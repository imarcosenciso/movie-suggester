{
 "cells": [
  {
   "cell_type": "markdown",
   "metadata": {},
   "source": [
    "# Data preprocessing\n",
    "\n",
    "Data cleaning and aggregation part. The main dataset is Movielens' 25 million movie review dataset. IMDb's official datasets is used to enrich the main dataset with potentially relevant information such as director and writer."
   ]
  },
  {
   "cell_type": "code",
   "execution_count": 135,
   "metadata": {},
   "outputs": [],
   "source": [
    "# Libraries imports and function declarations\n",
    "import pandas as pd\n",
    "import numpy as np\n",
    "import json\n",
    "import time"
   ]
  },
  {
   "cell_type": "code",
   "execution_count": 136,
   "metadata": {},
   "outputs": [],
   "source": [
    "t0 = time.time()"
   ]
  },
  {
   "cell_type": "markdown",
   "metadata": {},
   "source": [
    "# 1. Movies\n",
    "\n",
    "## Movielens dataset\n",
    "\n",
    "Data cleaning of the films dataset."
   ]
  },
  {
   "cell_type": "code",
   "execution_count": 137,
   "metadata": {},
   "outputs": [],
   "source": [
    "def convert_genres_list(x):\n",
    "    if not x:\n",
    "        return np.NaN\n",
    "    # If we rearch this point, it means we've got a string\n",
    "    # with at least 1 genre.\n",
    "    arr = x.lower().split(\"|\")\n",
    "\n",
    "    # For simplicity we'll only return the first 3 genres.\n",
    "    # If N < 3, len(arr) = N.\n",
    "    return arr[:3]\n",
    "\n",
    "df_main = pd.read_csv(\n",
    "    \"datasets/ml-25m/movies.csv\", sep=\",\",\n",
    "    converters= {\n",
    "        'genres': convert_genres_list\n",
    "    })"
   ]
  },
  {
   "cell_type": "code",
   "execution_count": 138,
   "metadata": {},
   "outputs": [
    {
     "data": {
      "text/html": [
       "<div>\n",
       "<style scoped>\n",
       "    .dataframe tbody tr th:only-of-type {\n",
       "        vertical-align: middle;\n",
       "    }\n",
       "\n",
       "    .dataframe tbody tr th {\n",
       "        vertical-align: top;\n",
       "    }\n",
       "\n",
       "    .dataframe thead th {\n",
       "        text-align: right;\n",
       "    }\n",
       "</style>\n",
       "<table border=\"1\" class=\"dataframe\">\n",
       "  <thead>\n",
       "    <tr style=\"text-align: right;\">\n",
       "      <th></th>\n",
       "      <th>movieId</th>\n",
       "      <th>title</th>\n",
       "      <th>genres</th>\n",
       "    </tr>\n",
       "  </thead>\n",
       "  <tbody>\n",
       "    <tr>\n",
       "      <th>0</th>\n",
       "      <td>1</td>\n",
       "      <td>Toy Story (1995)</td>\n",
       "      <td>[adventure, animation, children]</td>\n",
       "    </tr>\n",
       "    <tr>\n",
       "      <th>1</th>\n",
       "      <td>2</td>\n",
       "      <td>Jumanji (1995)</td>\n",
       "      <td>[adventure, children, fantasy]</td>\n",
       "    </tr>\n",
       "  </tbody>\n",
       "</table>\n",
       "</div>"
      ],
      "text/plain": [
       "   movieId             title                            genres\n",
       "0        1  Toy Story (1995)  [adventure, animation, children]\n",
       "1        2    Jumanji (1995)    [adventure, children, fantasy]"
      ]
     },
     "execution_count": 138,
     "metadata": {},
     "output_type": "execute_result"
    }
   ],
   "source": [
    "df_main.head(2)"
   ]
  },
  {
   "cell_type": "code",
   "execution_count": 139,
   "metadata": {},
   "outputs": [
    {
     "data": {
      "text/plain": [
       "(62423, 3)"
      ]
     },
     "execution_count": 139,
     "metadata": {},
     "output_type": "execute_result"
    }
   ],
   "source": [
    "df_main.shape"
   ]
  },
  {
   "cell_type": "code",
   "execution_count": 140,
   "metadata": {},
   "outputs": [
    {
     "data": {
      "text/plain": [
       "movieId    0\n",
       "title      0\n",
       "genres     0\n",
       "dtype: int64"
      ]
     },
     "execution_count": 140,
     "metadata": {},
     "output_type": "execute_result"
    }
   ],
   "source": [
    "df_main.isnull().sum()"
   ]
  },
  {
   "cell_type": "code",
   "execution_count": 141,
   "metadata": {},
   "outputs": [
    {
     "data": {
      "text/plain": [
       "False"
      ]
     },
     "execution_count": 141,
     "metadata": {},
     "output_type": "execute_result"
    }
   ],
   "source": [
    "df_main['title'].duplicated().all()"
   ]
  },
  {
   "cell_type": "code",
   "execution_count": 142,
   "metadata": {},
   "outputs": [],
   "source": [
    "def process_year(movie):\n",
    "    # Format: movie_name (year)\n",
    "    # We'll try to get the highest index for the parenthesis.\n",
    "    # If any of them are not found or the cast has an invalid input return -1 as year.\n",
    "    try:\n",
    "        start = movie.rindex('(')\n",
    "        end = movie.rindex(')')\n",
    "        \n",
    "        year = int(movie[start+1:end])\n",
    "        return year\n",
    "    except:\n",
    "        return -1    \n",
    "    \n",
    "df_main['year'] = df_main['title'].apply(lambda x: process_year(x))"
   ]
  },
  {
   "cell_type": "code",
   "execution_count": 143,
   "metadata": {},
   "outputs": [
    {
     "data": {
      "text/plain": [
       "False"
      ]
     },
     "execution_count": 143,
     "metadata": {},
     "output_type": "execute_result"
    }
   ],
   "source": [
    "-1 in df_main['year'] # All years have been successfully converted"
   ]
  },
  {
   "cell_type": "code",
   "execution_count": 144,
   "metadata": {},
   "outputs": [],
   "source": [
    "# Delete year from name\n",
    "def process_name(movie):\n",
    "    # Format: movie_name (year)\n",
    "    # We'll try to get the highest index for the parenthesis.\n",
    "    try:\n",
    "        start = movie.rindex('(')\n",
    "        new_movie = movie[:start].strip()\n",
    "        return new_movie\n",
    "    except:\n",
    "        return movie\n",
    "\n",
    "df_main['title'] = df_main['title'].apply(lambda x: process_name(x))"
   ]
  },
  {
   "cell_type": "code",
   "execution_count": 145,
   "metadata": {},
   "outputs": [
    {
     "data": {
      "text/html": [
       "<div>\n",
       "<style scoped>\n",
       "    .dataframe tbody tr th:only-of-type {\n",
       "        vertical-align: middle;\n",
       "    }\n",
       "\n",
       "    .dataframe tbody tr th {\n",
       "        vertical-align: top;\n",
       "    }\n",
       "\n",
       "    .dataframe thead th {\n",
       "        text-align: right;\n",
       "    }\n",
       "</style>\n",
       "<table border=\"1\" class=\"dataframe\">\n",
       "  <thead>\n",
       "    <tr style=\"text-align: right;\">\n",
       "      <th></th>\n",
       "      <th>movieId</th>\n",
       "      <th>title</th>\n",
       "      <th>genres</th>\n",
       "      <th>year</th>\n",
       "    </tr>\n",
       "  </thead>\n",
       "  <tbody>\n",
       "    <tr>\n",
       "      <th>0</th>\n",
       "      <td>1</td>\n",
       "      <td>Toy Story</td>\n",
       "      <td>[adventure, animation, children]</td>\n",
       "      <td>1995</td>\n",
       "    </tr>\n",
       "    <tr>\n",
       "      <th>1</th>\n",
       "      <td>2</td>\n",
       "      <td>Jumanji</td>\n",
       "      <td>[adventure, children, fantasy]</td>\n",
       "      <td>1995</td>\n",
       "    </tr>\n",
       "    <tr>\n",
       "      <th>2</th>\n",
       "      <td>3</td>\n",
       "      <td>Grumpier Old Men</td>\n",
       "      <td>[comedy, romance]</td>\n",
       "      <td>1995</td>\n",
       "    </tr>\n",
       "    <tr>\n",
       "      <th>3</th>\n",
       "      <td>4</td>\n",
       "      <td>Waiting to Exhale</td>\n",
       "      <td>[comedy, drama, romance]</td>\n",
       "      <td>1995</td>\n",
       "    </tr>\n",
       "    <tr>\n",
       "      <th>4</th>\n",
       "      <td>5</td>\n",
       "      <td>Father of the Bride Part II</td>\n",
       "      <td>[comedy]</td>\n",
       "      <td>1995</td>\n",
       "    </tr>\n",
       "  </tbody>\n",
       "</table>\n",
       "</div>"
      ],
      "text/plain": [
       "   movieId                        title                            genres  \\\n",
       "0        1                    Toy Story  [adventure, animation, children]   \n",
       "1        2                      Jumanji    [adventure, children, fantasy]   \n",
       "2        3             Grumpier Old Men                 [comedy, romance]   \n",
       "3        4            Waiting to Exhale          [comedy, drama, romance]   \n",
       "4        5  Father of the Bride Part II                          [comedy]   \n",
       "\n",
       "   year  \n",
       "0  1995  \n",
       "1  1995  \n",
       "2  1995  \n",
       "3  1995  \n",
       "4  1995  "
      ]
     },
     "execution_count": 145,
     "metadata": {},
     "output_type": "execute_result"
    }
   ],
   "source": [
    "df_main.head(5)"
   ]
  },
  {
   "cell_type": "markdown",
   "metadata": {},
   "source": [
    "Once we have this dataset cleaned, we need to aggregate information from the IMDb dataset.\n",
    "\n",
    "Informatio such as titleType, director, writer and main actors will be added.\n",
    "\n",
    "## IMDb dataset"
   ]
  },
  {
   "cell_type": "code",
   "execution_count": 146,
   "metadata": {},
   "outputs": [],
   "source": [
    "df_im = pd.read_csv(\n",
    "    \"datasets/IMDb/title_basics.tsv\", sep=\"\\t\",\n",
    "    usecols= ['tconst', 'titleType', 'primaryTitle']\n",
    "    )"
   ]
  },
  {
   "cell_type": "code",
   "execution_count": 147,
   "metadata": {},
   "outputs": [
    {
     "data": {
      "text/plain": [
       "(8699991, 3)"
      ]
     },
     "execution_count": 147,
     "metadata": {},
     "output_type": "execute_result"
    }
   ],
   "source": [
    "df_im.shape"
   ]
  },
  {
   "cell_type": "code",
   "execution_count": 148,
   "metadata": {},
   "outputs": [
    {
     "data": {
      "text/plain": [
       "tconst          0\n",
       "titleType       0\n",
       "primaryTitle    8\n",
       "dtype: int64"
      ]
     },
     "execution_count": 148,
     "metadata": {},
     "output_type": "execute_result"
    }
   ],
   "source": [
    "df_im.isnull().sum()"
   ]
  },
  {
   "cell_type": "code",
   "execution_count": 150,
   "metadata": {},
   "outputs": [
    {
     "data": {
      "text/plain": [
       "array(['short', 'movie', 'tvEpisode', 'tvSeries', 'tvShort', 'tvMovie',\n",
       "       'tvMiniSeries', 'tvSpecial', 'video', 'videoGame', 'tvPilot'],\n",
       "      dtype=object)"
      ]
     },
     "execution_count": 150,
     "metadata": {},
     "output_type": "execute_result"
    }
   ],
   "source": [
    "df_im['titleType'].unique()"
   ]
  },
  {
   "cell_type": "code",
   "execution_count": 151,
   "metadata": {},
   "outputs": [],
   "source": [
    "# We must drop all columns whose type is not short, movie, tvShort or tvMovie.\n",
    "# (we're unsure whether Movielense's dataset includes shorts, we'll keep them just in case).\n",
    "df_im = df_im.loc[df_im['titleType'].isin([\n",
    "        'short', 'movie', 'tvShort', 'tvMovie'\n",
    "    ])]"
   ]
  },
  {
   "cell_type": "code",
   "execution_count": 152,
   "metadata": {},
   "outputs": [
    {
     "data": {
      "text/plain": [
       "(1603640, 3)"
      ]
     },
     "execution_count": 152,
     "metadata": {},
     "output_type": "execute_result"
    }
   ],
   "source": [
    "df_im.shape # ~7 million rows dropped."
   ]
  },
  {
   "cell_type": "code",
   "execution_count": 153,
   "metadata": {},
   "outputs": [
    {
     "data": {
      "text/plain": [
       "tconst          0\n",
       "titleType       0\n",
       "primaryTitle    0\n",
       "dtype: int64"
      ]
     },
     "execution_count": 153,
     "metadata": {},
     "output_type": "execute_result"
    }
   ],
   "source": [
    "df_im.isnull().sum()"
   ]
  },
  {
   "cell_type": "markdown",
   "metadata": {},
   "source": [
    "### Adding directors and writers"
   ]
  },
  {
   "cell_type": "code",
   "execution_count": 154,
   "metadata": {},
   "outputs": [],
   "source": [
    "def convert_list(x):\n",
    "    if not x:\n",
    "        return np.NaN\n",
    "    if x == '\\\\N':\n",
    "        return np.NaN\n",
    "    return x.split(',')[0]\n",
    "\n",
    "df_crew = pd.read_csv(\n",
    "    \"datasets/IMDb/title_crew.tsv\", sep=\"\\t\",\n",
    "    converters= {\n",
    "        'directors': convert_list,\n",
    "        'writers': convert_list\n",
    "    })"
   ]
  },
  {
   "cell_type": "code",
   "execution_count": 155,
   "metadata": {},
   "outputs": [
    {
     "data": {
      "text/html": [
       "<div>\n",
       "<style scoped>\n",
       "    .dataframe tbody tr th:only-of-type {\n",
       "        vertical-align: middle;\n",
       "    }\n",
       "\n",
       "    .dataframe tbody tr th {\n",
       "        vertical-align: top;\n",
       "    }\n",
       "\n",
       "    .dataframe thead th {\n",
       "        text-align: right;\n",
       "    }\n",
       "</style>\n",
       "<table border=\"1\" class=\"dataframe\">\n",
       "  <thead>\n",
       "    <tr style=\"text-align: right;\">\n",
       "      <th></th>\n",
       "      <th>tconst</th>\n",
       "      <th>directors</th>\n",
       "      <th>writers</th>\n",
       "    </tr>\n",
       "  </thead>\n",
       "  <tbody>\n",
       "    <tr>\n",
       "      <th>0</th>\n",
       "      <td>tt0000001</td>\n",
       "      <td>nm0005690</td>\n",
       "      <td>NaN</td>\n",
       "    </tr>\n",
       "    <tr>\n",
       "      <th>1</th>\n",
       "      <td>tt0000002</td>\n",
       "      <td>nm0721526</td>\n",
       "      <td>NaN</td>\n",
       "    </tr>\n",
       "    <tr>\n",
       "      <th>2</th>\n",
       "      <td>tt0000003</td>\n",
       "      <td>nm0721526</td>\n",
       "      <td>NaN</td>\n",
       "    </tr>\n",
       "  </tbody>\n",
       "</table>\n",
       "</div>"
      ],
      "text/plain": [
       "      tconst  directors writers\n",
       "0  tt0000001  nm0005690     NaN\n",
       "1  tt0000002  nm0721526     NaN\n",
       "2  tt0000003  nm0721526     NaN"
      ]
     },
     "execution_count": 155,
     "metadata": {},
     "output_type": "execute_result"
    }
   ],
   "source": [
    "df_crew.head(3)"
   ]
  },
  {
   "cell_type": "code",
   "execution_count": 156,
   "metadata": {},
   "outputs": [],
   "source": [
    "df_im = pd.merge(df_im, df_crew, how='left', on=['tconst'])"
   ]
  },
  {
   "cell_type": "code",
   "execution_count": 157,
   "metadata": {},
   "outputs": [
    {
     "data": {
      "text/html": [
       "<div>\n",
       "<style scoped>\n",
       "    .dataframe tbody tr th:only-of-type {\n",
       "        vertical-align: middle;\n",
       "    }\n",
       "\n",
       "    .dataframe tbody tr th {\n",
       "        vertical-align: top;\n",
       "    }\n",
       "\n",
       "    .dataframe thead th {\n",
       "        text-align: right;\n",
       "    }\n",
       "</style>\n",
       "<table border=\"1\" class=\"dataframe\">\n",
       "  <thead>\n",
       "    <tr style=\"text-align: right;\">\n",
       "      <th></th>\n",
       "      <th>tconst</th>\n",
       "      <th>titleType</th>\n",
       "      <th>primaryTitle</th>\n",
       "      <th>directors</th>\n",
       "      <th>writers</th>\n",
       "    </tr>\n",
       "  </thead>\n",
       "  <tbody>\n",
       "    <tr>\n",
       "      <th>0</th>\n",
       "      <td>tt0000001</td>\n",
       "      <td>short</td>\n",
       "      <td>Carmencita</td>\n",
       "      <td>nm0005690</td>\n",
       "      <td>NaN</td>\n",
       "    </tr>\n",
       "    <tr>\n",
       "      <th>1</th>\n",
       "      <td>tt0000002</td>\n",
       "      <td>short</td>\n",
       "      <td>Le clown et ses chiens</td>\n",
       "      <td>nm0721526</td>\n",
       "      <td>NaN</td>\n",
       "    </tr>\n",
       "    <tr>\n",
       "      <th>2</th>\n",
       "      <td>tt0000003</td>\n",
       "      <td>short</td>\n",
       "      <td>Pauvre Pierrot</td>\n",
       "      <td>nm0721526</td>\n",
       "      <td>NaN</td>\n",
       "    </tr>\n",
       "  </tbody>\n",
       "</table>\n",
       "</div>"
      ],
      "text/plain": [
       "      tconst titleType            primaryTitle  directors writers\n",
       "0  tt0000001     short              Carmencita  nm0005690     NaN\n",
       "1  tt0000002     short  Le clown et ses chiens  nm0721526     NaN\n",
       "2  tt0000003     short          Pauvre Pierrot  nm0721526     NaN"
      ]
     },
     "execution_count": 157,
     "metadata": {},
     "output_type": "execute_result"
    }
   ],
   "source": [
    "df_im.head(3)"
   ]
  },
  {
   "cell_type": "code",
   "execution_count": 158,
   "metadata": {},
   "outputs": [
    {
     "data": {
      "text/plain": [
       "(1603640, 5)"
      ]
     },
     "execution_count": 158,
     "metadata": {},
     "output_type": "execute_result"
    }
   ],
   "source": [
    "df_im.shape"
   ]
  },
  {
   "cell_type": "code",
   "execution_count": 159,
   "metadata": {},
   "outputs": [],
   "source": [
    "df_name = pd.read_csv(\n",
    "    \"datasets/IMDb/name_basics.tsv\", sep=\"\\t\",\n",
    "    usecols=[\n",
    "        'nconst',\n",
    "        'primaryName'\n",
    "    ])"
   ]
  },
  {
   "cell_type": "code",
   "execution_count": 160,
   "metadata": {},
   "outputs": [
    {
     "data": {
      "text/html": [
       "<div>\n",
       "<style scoped>\n",
       "    .dataframe tbody tr th:only-of-type {\n",
       "        vertical-align: middle;\n",
       "    }\n",
       "\n",
       "    .dataframe tbody tr th {\n",
       "        vertical-align: top;\n",
       "    }\n",
       "\n",
       "    .dataframe thead th {\n",
       "        text-align: right;\n",
       "    }\n",
       "</style>\n",
       "<table border=\"1\" class=\"dataframe\">\n",
       "  <thead>\n",
       "    <tr style=\"text-align: right;\">\n",
       "      <th></th>\n",
       "      <th>nconst</th>\n",
       "      <th>primaryName</th>\n",
       "    </tr>\n",
       "  </thead>\n",
       "  <tbody>\n",
       "    <tr>\n",
       "      <th>0</th>\n",
       "      <td>nm0000001</td>\n",
       "      <td>Fred Astaire</td>\n",
       "    </tr>\n",
       "    <tr>\n",
       "      <th>1</th>\n",
       "      <td>nm0000002</td>\n",
       "      <td>Lauren Bacall</td>\n",
       "    </tr>\n",
       "    <tr>\n",
       "      <th>2</th>\n",
       "      <td>nm0000003</td>\n",
       "      <td>Brigitte Bardot</td>\n",
       "    </tr>\n",
       "  </tbody>\n",
       "</table>\n",
       "</div>"
      ],
      "text/plain": [
       "      nconst      primaryName\n",
       "0  nm0000001     Fred Astaire\n",
       "1  nm0000002    Lauren Bacall\n",
       "2  nm0000003  Brigitte Bardot"
      ]
     },
     "execution_count": 160,
     "metadata": {},
     "output_type": "execute_result"
    }
   ],
   "source": [
    "df_name.head(3)"
   ]
  },
  {
   "cell_type": "code",
   "execution_count": 161,
   "metadata": {},
   "outputs": [],
   "source": [
    "df_im = pd.merge(df_im, df_name,\n",
    "    how='left',\n",
    "    left_on=['directors'], right_on=['nconst']\n",
    "    )\n",
    "\n",
    "# Drop extra column, rename director's column name\n",
    "df_im = df_im.drop(columns='nconst')\n",
    "df_im = df_im.rename(columns={'primaryName':'directorName'})"
   ]
  },
  {
   "cell_type": "code",
   "execution_count": 162,
   "metadata": {},
   "outputs": [],
   "source": [
    "df_im = pd.merge(df_im, df_name,\n",
    "    how='left',\n",
    "    left_on=['writers'], right_on=['nconst']\n",
    "    )\n",
    "\n",
    "df_im = df_im.drop(columns='nconst')\n",
    "df_im = df_im.rename(columns={'primaryName':'writerName'})\n"
   ]
  },
  {
   "cell_type": "code",
   "execution_count": 163,
   "metadata": {},
   "outputs": [],
   "source": [
    "df_im = df_im.drop(columns=['directors','writers'])\n",
    "df_im = df_im.rename(columns={\n",
    "    'directorName':'director',\n",
    "    'writerName':'writer'\n",
    "    })\n"
   ]
  },
  {
   "cell_type": "code",
   "execution_count": 164,
   "metadata": {},
   "outputs": [
    {
     "data": {
      "text/html": [
       "<div>\n",
       "<style scoped>\n",
       "    .dataframe tbody tr th:only-of-type {\n",
       "        vertical-align: middle;\n",
       "    }\n",
       "\n",
       "    .dataframe tbody tr th {\n",
       "        vertical-align: top;\n",
       "    }\n",
       "\n",
       "    .dataframe thead th {\n",
       "        text-align: right;\n",
       "    }\n",
       "</style>\n",
       "<table border=\"1\" class=\"dataframe\">\n",
       "  <thead>\n",
       "    <tr style=\"text-align: right;\">\n",
       "      <th></th>\n",
       "      <th>tconst</th>\n",
       "      <th>titleType</th>\n",
       "      <th>primaryTitle</th>\n",
       "      <th>director</th>\n",
       "      <th>writer</th>\n",
       "    </tr>\n",
       "  </thead>\n",
       "  <tbody>\n",
       "    <tr>\n",
       "      <th>0</th>\n",
       "      <td>tt0000001</td>\n",
       "      <td>short</td>\n",
       "      <td>Carmencita</td>\n",
       "      <td>William K.L. Dickson</td>\n",
       "      <td>NaN</td>\n",
       "    </tr>\n",
       "    <tr>\n",
       "      <th>1</th>\n",
       "      <td>tt0000002</td>\n",
       "      <td>short</td>\n",
       "      <td>Le clown et ses chiens</td>\n",
       "      <td>Émile Reynaud</td>\n",
       "      <td>NaN</td>\n",
       "    </tr>\n",
       "    <tr>\n",
       "      <th>2</th>\n",
       "      <td>tt0000003</td>\n",
       "      <td>short</td>\n",
       "      <td>Pauvre Pierrot</td>\n",
       "      <td>Émile Reynaud</td>\n",
       "      <td>NaN</td>\n",
       "    </tr>\n",
       "    <tr>\n",
       "      <th>3</th>\n",
       "      <td>tt0000004</td>\n",
       "      <td>short</td>\n",
       "      <td>Un bon bock</td>\n",
       "      <td>Émile Reynaud</td>\n",
       "      <td>NaN</td>\n",
       "    </tr>\n",
       "    <tr>\n",
       "      <th>4</th>\n",
       "      <td>tt0000005</td>\n",
       "      <td>short</td>\n",
       "      <td>Blacksmith Scene</td>\n",
       "      <td>William K.L. Dickson</td>\n",
       "      <td>NaN</td>\n",
       "    </tr>\n",
       "    <tr>\n",
       "      <th>5</th>\n",
       "      <td>tt0000006</td>\n",
       "      <td>short</td>\n",
       "      <td>Chinese Opium Den</td>\n",
       "      <td>William K.L. Dickson</td>\n",
       "      <td>NaN</td>\n",
       "    </tr>\n",
       "    <tr>\n",
       "      <th>6</th>\n",
       "      <td>tt0000007</td>\n",
       "      <td>short</td>\n",
       "      <td>Corbett and Courtney Before the Kinetograph</td>\n",
       "      <td>William Heise</td>\n",
       "      <td>NaN</td>\n",
       "    </tr>\n",
       "    <tr>\n",
       "      <th>7</th>\n",
       "      <td>tt0000008</td>\n",
       "      <td>short</td>\n",
       "      <td>Edison Kinetoscopic Record of a Sneeze</td>\n",
       "      <td>William K.L. Dickson</td>\n",
       "      <td>NaN</td>\n",
       "    </tr>\n",
       "    <tr>\n",
       "      <th>8</th>\n",
       "      <td>tt0000009</td>\n",
       "      <td>short</td>\n",
       "      <td>Miss Jerry</td>\n",
       "      <td>Alexander Black</td>\n",
       "      <td>Alexander Black</td>\n",
       "    </tr>\n",
       "    <tr>\n",
       "      <th>9</th>\n",
       "      <td>tt0000010</td>\n",
       "      <td>short</td>\n",
       "      <td>Leaving the Factory</td>\n",
       "      <td>Louis Lumière</td>\n",
       "      <td>NaN</td>\n",
       "    </tr>\n",
       "  </tbody>\n",
       "</table>\n",
       "</div>"
      ],
      "text/plain": [
       "      tconst titleType                                 primaryTitle  \\\n",
       "0  tt0000001     short                                   Carmencita   \n",
       "1  tt0000002     short                       Le clown et ses chiens   \n",
       "2  tt0000003     short                               Pauvre Pierrot   \n",
       "3  tt0000004     short                                  Un bon bock   \n",
       "4  tt0000005     short                             Blacksmith Scene   \n",
       "5  tt0000006     short                            Chinese Opium Den   \n",
       "6  tt0000007     short  Corbett and Courtney Before the Kinetograph   \n",
       "7  tt0000008     short       Edison Kinetoscopic Record of a Sneeze   \n",
       "8  tt0000009     short                                   Miss Jerry   \n",
       "9  tt0000010     short                          Leaving the Factory   \n",
       "\n",
       "               director           writer  \n",
       "0  William K.L. Dickson              NaN  \n",
       "1         Émile Reynaud              NaN  \n",
       "2         Émile Reynaud              NaN  \n",
       "3         Émile Reynaud              NaN  \n",
       "4  William K.L. Dickson              NaN  \n",
       "5  William K.L. Dickson              NaN  \n",
       "6         William Heise              NaN  \n",
       "7  William K.L. Dickson              NaN  \n",
       "8       Alexander Black  Alexander Black  \n",
       "9         Louis Lumière              NaN  "
      ]
     },
     "execution_count": 164,
     "metadata": {},
     "output_type": "execute_result"
    }
   ],
   "source": [
    "df_im.head(10)"
   ]
  },
  {
   "cell_type": "markdown",
   "metadata": {},
   "source": [
    "## Merging the two datasets"
   ]
  },
  {
   "cell_type": "code",
   "execution_count": 165,
   "metadata": {},
   "outputs": [
    {
     "data": {
      "text/plain": [
       "62423"
      ]
     },
     "execution_count": 165,
     "metadata": {},
     "output_type": "execute_result"
    }
   ],
   "source": [
    "df_main.shape[0]"
   ]
  },
  {
   "cell_type": "code",
   "execution_count": 166,
   "metadata": {},
   "outputs": [
    {
     "data": {
      "text/plain": [
       "40916"
      ]
     },
     "execution_count": 166,
     "metadata": {},
     "output_type": "execute_result"
    }
   ],
   "source": [
    "len(set(df_main['title']).intersection(set(df_im['primaryTitle'])))"
   ]
  },
  {
   "cell_type": "markdown",
   "metadata": {},
   "source": [
    "IMDb's dataset contains information for 40916 of the 62423 movies from the Movielense dataset, or around 65% of the movies.\n",
    "Since the dataset will be reduced anyway for memory reasons we can drop the movies with no extra information."
   ]
  },
  {
   "cell_type": "code",
   "execution_count": 167,
   "metadata": {},
   "outputs": [],
   "source": [
    "df_main = df_main.merge(df_im.drop_duplicates(subset=['primaryTitle']),\n",
    "    left_on='title', right_on='primaryTitle',\n",
    "    how='left')"
   ]
  },
  {
   "cell_type": "code",
   "execution_count": 168,
   "metadata": {},
   "outputs": [
    {
     "data": {
      "text/plain": [
       "(62423, 9)"
      ]
     },
     "execution_count": 168,
     "metadata": {},
     "output_type": "execute_result"
    }
   ],
   "source": [
    "df_main.shape"
   ]
  },
  {
   "cell_type": "code",
   "execution_count": 169,
   "metadata": {},
   "outputs": [
    {
     "data": {
      "text/plain": [
       "movieId             0\n",
       "title               0\n",
       "genres              0\n",
       "year                0\n",
       "tconst          17842\n",
       "titleType       17842\n",
       "primaryTitle    17842\n",
       "director        18455\n",
       "writer          21563\n",
       "dtype: int64"
      ]
     },
     "execution_count": 169,
     "metadata": {},
     "output_type": "execute_result"
    }
   ],
   "source": [
    "df_main.isnull().sum()"
   ]
  },
  {
   "cell_type": "code",
   "execution_count": 170,
   "metadata": {},
   "outputs": [],
   "source": [
    "# We can delete the rows there the tconst is NaN.\n",
    "# df_main = df_main[df_main['tconst'].notna()]\n",
    "df_main = df_main.dropna() # We drop all rows that have any NaN"
   ]
  },
  {
   "cell_type": "code",
   "execution_count": 171,
   "metadata": {},
   "outputs": [
    {
     "data": {
      "text/plain": [
       "Index(['movieId', 'title', 'genres', 'year', 'tconst', 'titleType',\n",
       "       'primaryTitle', 'director', 'writer'],\n",
       "      dtype='object')"
      ]
     },
     "execution_count": 171,
     "metadata": {},
     "output_type": "execute_result"
    }
   ],
   "source": [
    "df_main.columns"
   ]
  },
  {
   "cell_type": "code",
   "execution_count": 172,
   "metadata": {},
   "outputs": [],
   "source": [
    "# Now, delete the useless extra columns and write the dataset to file.\n",
    "df_main = df_main.drop(['tconst', 'primaryTitle'], axis=1)"
   ]
  },
  {
   "cell_type": "code",
   "execution_count": 173,
   "metadata": {},
   "outputs": [
    {
     "data": {
      "text/html": [
       "<div>\n",
       "<style scoped>\n",
       "    .dataframe tbody tr th:only-of-type {\n",
       "        vertical-align: middle;\n",
       "    }\n",
       "\n",
       "    .dataframe tbody tr th {\n",
       "        vertical-align: top;\n",
       "    }\n",
       "\n",
       "    .dataframe thead th {\n",
       "        text-align: right;\n",
       "    }\n",
       "</style>\n",
       "<table border=\"1\" class=\"dataframe\">\n",
       "  <thead>\n",
       "    <tr style=\"text-align: right;\">\n",
       "      <th></th>\n",
       "      <th>movieId</th>\n",
       "      <th>title</th>\n",
       "      <th>genres</th>\n",
       "      <th>year</th>\n",
       "      <th>titleType</th>\n",
       "      <th>director</th>\n",
       "      <th>writer</th>\n",
       "    </tr>\n",
       "  </thead>\n",
       "  <tbody>\n",
       "    <tr>\n",
       "      <th>0</th>\n",
       "      <td>1</td>\n",
       "      <td>Toy Story</td>\n",
       "      <td>[adventure, animation, children]</td>\n",
       "      <td>1995</td>\n",
       "      <td>movie</td>\n",
       "      <td>John Lasseter</td>\n",
       "      <td>John Lasseter</td>\n",
       "    </tr>\n",
       "    <tr>\n",
       "      <th>1</th>\n",
       "      <td>2</td>\n",
       "      <td>Jumanji</td>\n",
       "      <td>[adventure, children, fantasy]</td>\n",
       "      <td>1995</td>\n",
       "      <td>movie</td>\n",
       "      <td>Joe Johnston</td>\n",
       "      <td>Jonathan Hensleigh</td>\n",
       "    </tr>\n",
       "    <tr>\n",
       "      <th>2</th>\n",
       "      <td>3</td>\n",
       "      <td>Grumpier Old Men</td>\n",
       "      <td>[comedy, romance]</td>\n",
       "      <td>1995</td>\n",
       "      <td>movie</td>\n",
       "      <td>Howard Deutch</td>\n",
       "      <td>Mark Steven Johnson</td>\n",
       "    </tr>\n",
       "  </tbody>\n",
       "</table>\n",
       "</div>"
      ],
      "text/plain": [
       "   movieId             title                            genres  year  \\\n",
       "0        1         Toy Story  [adventure, animation, children]  1995   \n",
       "1        2           Jumanji    [adventure, children, fantasy]  1995   \n",
       "2        3  Grumpier Old Men                 [comedy, romance]  1995   \n",
       "\n",
       "  titleType       director               writer  \n",
       "0     movie  John Lasseter        John Lasseter  \n",
       "1     movie   Joe Johnston   Jonathan Hensleigh  \n",
       "2     movie  Howard Deutch  Mark Steven Johnson  "
      ]
     },
     "execution_count": 173,
     "metadata": {},
     "output_type": "execute_result"
    }
   ],
   "source": [
    "df_main.head(3)"
   ]
  },
  {
   "cell_type": "code",
   "execution_count": 174,
   "metadata": {},
   "outputs": [
    {
     "data": {
      "text/html": [
       "<div>\n",
       "<style scoped>\n",
       "    .dataframe tbody tr th:only-of-type {\n",
       "        vertical-align: middle;\n",
       "    }\n",
       "\n",
       "    .dataframe tbody tr th {\n",
       "        vertical-align: top;\n",
       "    }\n",
       "\n",
       "    .dataframe thead th {\n",
       "        text-align: right;\n",
       "    }\n",
       "</style>\n",
       "<table border=\"1\" class=\"dataframe\">\n",
       "  <thead>\n",
       "    <tr style=\"text-align: right;\">\n",
       "      <th></th>\n",
       "      <th>genre_0</th>\n",
       "      <th>genre_1</th>\n",
       "      <th>genre_2</th>\n",
       "    </tr>\n",
       "  </thead>\n",
       "  <tbody>\n",
       "    <tr>\n",
       "      <th>0</th>\n",
       "      <td>adventure</td>\n",
       "      <td>animation</td>\n",
       "      <td>children</td>\n",
       "    </tr>\n",
       "    <tr>\n",
       "      <th>1</th>\n",
       "      <td>adventure</td>\n",
       "      <td>children</td>\n",
       "      <td>fantasy</td>\n",
       "    </tr>\n",
       "    <tr>\n",
       "      <th>2</th>\n",
       "      <td>comedy</td>\n",
       "      <td>romance</td>\n",
       "      <td>NaN</td>\n",
       "    </tr>\n",
       "    <tr>\n",
       "      <th>3</th>\n",
       "      <td>comedy</td>\n",
       "      <td>drama</td>\n",
       "      <td>romance</td>\n",
       "    </tr>\n",
       "    <tr>\n",
       "      <th>4</th>\n",
       "      <td>comedy</td>\n",
       "      <td>NaN</td>\n",
       "      <td>NaN</td>\n",
       "    </tr>\n",
       "    <tr>\n",
       "      <th>...</th>\n",
       "      <td>...</td>\n",
       "      <td>...</td>\n",
       "      <td>...</td>\n",
       "    </tr>\n",
       "    <tr>\n",
       "      <th>62416</th>\n",
       "      <td>comedy</td>\n",
       "      <td>drama</td>\n",
       "      <td>NaN</td>\n",
       "    </tr>\n",
       "    <tr>\n",
       "      <th>62419</th>\n",
       "      <td>documentary</td>\n",
       "      <td>NaN</td>\n",
       "      <td>NaN</td>\n",
       "    </tr>\n",
       "    <tr>\n",
       "      <th>62420</th>\n",
       "      <td>comedy</td>\n",
       "      <td>drama</td>\n",
       "      <td>NaN</td>\n",
       "    </tr>\n",
       "    <tr>\n",
       "      <th>62421</th>\n",
       "      <td>(no genres listed)</td>\n",
       "      <td>NaN</td>\n",
       "      <td>NaN</td>\n",
       "    </tr>\n",
       "    <tr>\n",
       "      <th>62422</th>\n",
       "      <td>action</td>\n",
       "      <td>adventure</td>\n",
       "      <td>drama</td>\n",
       "    </tr>\n",
       "  </tbody>\n",
       "</table>\n",
       "<p>40609 rows × 3 columns</p>\n",
       "</div>"
      ],
      "text/plain": [
       "                  genre_0    genre_1   genre_2\n",
       "0               adventure  animation  children\n",
       "1               adventure   children   fantasy\n",
       "2                  comedy    romance       NaN\n",
       "3                  comedy      drama   romance\n",
       "4                  comedy        NaN       NaN\n",
       "...                   ...        ...       ...\n",
       "62416              comedy      drama       NaN\n",
       "62419         documentary        NaN       NaN\n",
       "62420              comedy      drama       NaN\n",
       "62421  (no genres listed)        NaN       NaN\n",
       "62422              action  adventure     drama\n",
       "\n",
       "[40609 rows x 3 columns]"
      ]
     },
     "execution_count": 174,
     "metadata": {},
     "output_type": "execute_result"
    }
   ],
   "source": [
    "# Expand list of genres into new columns.\n",
    "\n",
    "# 1st, expand genres into its own dataframe\n",
    "genres = df_main['genres'].apply(pd.Series)\n",
    "\n",
    "# Rename columns\n",
    "genres = genres.rename(columns = lambda x : 'genre_' + str(x))\n",
    "\n",
    "# view the tags dataframe\n",
    "genres"
   ]
  },
  {
   "cell_type": "code",
   "execution_count": 175,
   "metadata": {},
   "outputs": [],
   "source": [
    "df_main = pd.concat([df_main[:], genres[:]], axis=1)\n",
    "\n",
    "# df_main.drop('genres', axis=1, inplace=True) # Having the genres column will be usefull for later on.\n"
   ]
  },
  {
   "cell_type": "code",
   "execution_count": 176,
   "metadata": {},
   "outputs": [],
   "source": [
    "df_json = df_main.to_json(orient=\"records\")\n",
    "parsed = json.loads(df_json)\n",
    "\n",
    "with open(\"datasets/final/movies_final.json\", \"w\", encoding=\"utf-8\") as f:\n",
    "    json.dump(parsed, f, indent=4)"
   ]
  },
  {
   "cell_type": "markdown",
   "metadata": {},
   "source": [
    "# 2. Ratings\n",
    "\n",
    "For this dataset, the main idea is to delete reviews from films that aren't present in the previous dataset. "
   ]
  },
  {
   "cell_type": "code",
   "execution_count": 177,
   "metadata": {},
   "outputs": [],
   "source": [
    "df_rt = pd.read_csv(\n",
    "    \"datasets/ml-25m/ratings.csv\",\n",
    "    usecols=[\n",
    "        'userId',\n",
    "        'movieId',\n",
    "        'rating'\n",
    "    ])"
   ]
  },
  {
   "cell_type": "code",
   "execution_count": 178,
   "metadata": {},
   "outputs": [
    {
     "data": {
      "text/html": [
       "<div>\n",
       "<style scoped>\n",
       "    .dataframe tbody tr th:only-of-type {\n",
       "        vertical-align: middle;\n",
       "    }\n",
       "\n",
       "    .dataframe tbody tr th {\n",
       "        vertical-align: top;\n",
       "    }\n",
       "\n",
       "    .dataframe thead th {\n",
       "        text-align: right;\n",
       "    }\n",
       "</style>\n",
       "<table border=\"1\" class=\"dataframe\">\n",
       "  <thead>\n",
       "    <tr style=\"text-align: right;\">\n",
       "      <th></th>\n",
       "      <th>userId</th>\n",
       "      <th>movieId</th>\n",
       "      <th>rating</th>\n",
       "    </tr>\n",
       "  </thead>\n",
       "  <tbody>\n",
       "    <tr>\n",
       "      <th>0</th>\n",
       "      <td>1</td>\n",
       "      <td>296</td>\n",
       "      <td>5.0</td>\n",
       "    </tr>\n",
       "    <tr>\n",
       "      <th>1</th>\n",
       "      <td>1</td>\n",
       "      <td>306</td>\n",
       "      <td>3.5</td>\n",
       "    </tr>\n",
       "    <tr>\n",
       "      <th>2</th>\n",
       "      <td>1</td>\n",
       "      <td>307</td>\n",
       "      <td>5.0</td>\n",
       "    </tr>\n",
       "    <tr>\n",
       "      <th>3</th>\n",
       "      <td>1</td>\n",
       "      <td>665</td>\n",
       "      <td>5.0</td>\n",
       "    </tr>\n",
       "    <tr>\n",
       "      <th>4</th>\n",
       "      <td>1</td>\n",
       "      <td>899</td>\n",
       "      <td>3.5</td>\n",
       "    </tr>\n",
       "  </tbody>\n",
       "</table>\n",
       "</div>"
      ],
      "text/plain": [
       "   userId  movieId  rating\n",
       "0       1      296     5.0\n",
       "1       1      306     3.5\n",
       "2       1      307     5.0\n",
       "3       1      665     5.0\n",
       "4       1      899     3.5"
      ]
     },
     "execution_count": 178,
     "metadata": {},
     "output_type": "execute_result"
    }
   ],
   "source": [
    "df_rt.head(5)"
   ]
  },
  {
   "cell_type": "code",
   "execution_count": 179,
   "metadata": {},
   "outputs": [
    {
     "data": {
      "text/plain": [
       "25000095"
      ]
     },
     "execution_count": 179,
     "metadata": {},
     "output_type": "execute_result"
    }
   ],
   "source": [
    "df_rt.shape[0] # 25.000.095 ratings"
   ]
  },
  {
   "cell_type": "code",
   "execution_count": 107,
   "metadata": {},
   "outputs": [
    {
     "data": {
      "text/plain": [
       "40609"
      ]
     },
     "execution_count": 107,
     "metadata": {},
     "output_type": "execute_result"
    }
   ],
   "source": [
    "df_films.shape[0]"
   ]
  },
  {
   "cell_type": "markdown",
   "metadata": {},
   "source": [
    "We must delete those reviews of films which don't exist anymore."
   ]
  },
  {
   "cell_type": "code",
   "execution_count": 181,
   "metadata": {},
   "outputs": [],
   "source": [
    "df_main = df_rt[df_rt['movieId'].isin(df_films['movieId'])]"
   ]
  },
  {
   "cell_type": "code",
   "execution_count": 182,
   "metadata": {},
   "outputs": [
    {
     "data": {
      "text/plain": [
       "17165849"
      ]
     },
     "execution_count": 182,
     "metadata": {},
     "output_type": "execute_result"
    }
   ],
   "source": [
    "df_main.shape[0] # 17.165.849"
   ]
  },
  {
   "cell_type": "markdown",
   "metadata": {},
   "source": [
    "Now, let's proceed with some data exploration."
   ]
  },
  {
   "cell_type": "code",
   "execution_count": 187,
   "metadata": {},
   "outputs": [
    {
     "data": {
      "text/plain": [
       "<AxesSubplot:>"
      ]
     },
     "execution_count": 187,
     "metadata": {},
     "output_type": "execute_result"
    },
    {
     "data": {
      "image/png": "[encoded data removed]",
      "text/plain": [
       "<Figure size 432x288 with 1 Axes>"
      ]
     },
     "metadata": {
      "needs_background": "light"
     },
     "output_type": "display_data"
    }
   ],
   "source": [
    "ratings_per_user = df_main.groupby('userId')['movieId'].count()\n",
    "\n",
    "ratings_per_user.hist(bins=50)"
   ]
  },
  {
   "cell_type": "code",
   "execution_count": 188,
   "metadata": {},
   "outputs": [],
   "source": [
    "# Convert Series to Dataframe for easier filtering.\n",
    "ratings_per_user = pd.DataFrame({'userId':ratings_per_user.index, 'count':ratings_per_user.values})"
   ]
  },
  {
   "cell_type": "code",
   "execution_count": 189,
   "metadata": {},
   "outputs": [
    {
     "data": {
      "text/plain": [
       "162541"
      ]
     },
     "execution_count": 189,
     "metadata": {},
     "output_type": "execute_result"
    }
   ],
   "source": [
    "ratings_per_user.shape[0] # 162.541 users"
   ]
  },
  {
   "cell_type": "markdown",
   "metadata": {},
   "source": [
    "The bast mayority of users have less than 20 reviews."
   ]
  },
  {
   "cell_type": "code",
   "execution_count": 190,
   "metadata": {},
   "outputs": [
    {
     "data": {
      "text/plain": [
       "<AxesSubplot:>"
      ]
     },
     "execution_count": 190,
     "metadata": {},
     "output_type": "execute_result"
    },
    {
     "data": {
      "image/png": "[encoded data removed]",
      "text/plain": [
       "<Figure size 432x288 with 1 Axes>"
      ]
     },
     "metadata": {
      "needs_background": "light"
     },
     "output_type": "display_data"
    }
   ],
   "source": [
    "ratings_per_movie = df_main.groupby('movieId')['userId'].count()\n",
    "\n",
    "\n",
    "ratings_per_movie.hist(bins=50)"
   ]
  },
  {
   "cell_type": "code",
   "execution_count": 191,
   "metadata": {},
   "outputs": [],
   "source": [
    "# Convert Series to Dataframe for easier filtering.\n",
    "ratings_per_movie = pd.DataFrame({'movieId':ratings_per_movie.index, 'count':ratings_per_movie.values})"
   ]
  },
  {
   "cell_type": "code",
   "execution_count": 193,
   "metadata": {},
   "outputs": [
    {
     "data": {
      "text/plain": [
       "37972"
      ]
     },
     "execution_count": 193,
     "metadata": {},
     "output_type": "execute_result"
    }
   ],
   "source": [
    "ratings_per_movie.shape[0] # 37.972 movies with ratings."
   ]
  },
  {
   "cell_type": "markdown",
   "metadata": {},
   "source": [
    "Most movies have less than 200 ratings."
   ]
  },
  {
   "cell_type": "markdown",
   "metadata": {},
   "source": [
    "For the data and noise reduction part, we'll eliminate films which have less than 30 reviews, as well as users who have voted less than 15 films."
   ]
  },
  {
   "cell_type": "code",
   "execution_count": 194,
   "metadata": {},
   "outputs": [],
   "source": [
    "# Keep ratings of users with more than 15 reviews in total.\n",
    "\n",
    "# 1st, apply filter to grouped dataframes.\n",
    "ratings_per_user = ratings_per_user[ratings_per_user['count'] >= 15]\n",
    "\n",
    "ratings_per_movie = ratings_per_movie[ratings_per_movie['count'] >= 30]"
   ]
  },
  {
   "cell_type": "code",
   "execution_count": 195,
   "metadata": {},
   "outputs": [
    {
     "data": {
      "text/plain": [
       "153866"
      ]
     },
     "execution_count": 195,
     "metadata": {},
     "output_type": "execute_result"
    }
   ],
   "source": [
    "ratings_per_user.shape[0] # 153.866 users left"
   ]
  },
  {
   "cell_type": "code",
   "execution_count": 196,
   "metadata": {},
   "outputs": [
    {
     "data": {
      "text/plain": [
       "9737"
      ]
     },
     "execution_count": 196,
     "metadata": {},
     "output_type": "execute_result"
    }
   ],
   "source": [
    "ratings_per_movie.shape[0] # 9.737 movies left"
   ]
  },
  {
   "cell_type": "code",
   "execution_count": 198,
   "metadata": {},
   "outputs": [],
   "source": [
    "# Now delete filtered ratings.\n",
    "df_ratings = df_main[\n",
    "    (df_main['userId'].isin(ratings_per_user['userId'])) &\n",
    "    (df_main['movieId'].isin(ratings_per_movie['movieId']))\n",
    "    ]"
   ]
  },
  {
   "cell_type": "code",
   "execution_count": 199,
   "metadata": {},
   "outputs": [
    {
     "data": {
      "text/plain": [
       "(16903579, 3)"
      ]
     },
     "execution_count": 199,
     "metadata": {},
     "output_type": "execute_result"
    }
   ],
   "source": [
    "df_ratings.shape # 16.903.579 ratings left."
   ]
  },
  {
   "cell_type": "code",
   "execution_count": null,
   "metadata": {},
   "outputs": [
    {
     "data": {
      "text/html": [
       "<div>\n",
       "<style scoped>\n",
       "    .dataframe tbody tr th:only-of-type {\n",
       "        vertical-align: middle;\n",
       "    }\n",
       "\n",
       "    .dataframe tbody tr th {\n",
       "        vertical-align: top;\n",
       "    }\n",
       "\n",
       "    .dataframe thead th {\n",
       "        text-align: right;\n",
       "    }\n",
       "</style>\n",
       "<table border=\"1\" class=\"dataframe\">\n",
       "  <thead>\n",
       "    <tr style=\"text-align: right;\">\n",
       "      <th></th>\n",
       "      <th>userId</th>\n",
       "      <th>movieId</th>\n",
       "      <th>rating</th>\n",
       "    </tr>\n",
       "  </thead>\n",
       "  <tbody>\n",
       "    <tr>\n",
       "      <th>0</th>\n",
       "      <td>23564</td>\n",
       "      <td>115629</td>\n",
       "      <td>3.0</td>\n",
       "    </tr>\n",
       "  </tbody>\n",
       "</table>\n",
       "</div>"
      ],
      "text/plain": [
       "   userId  movieId  rating\n",
       "0   23564   115629     3.0"
      ]
     },
     "metadata": {},
     "output_type": "display_data"
    }
   ],
   "source": [
    "df_ratings.head(1)"
   ]
  },
  {
   "cell_type": "code",
   "execution_count": 208,
   "metadata": {},
   "outputs": [],
   "source": [
    "df_json = df_ratings.to_json(orient=\"records\")\n",
    "parsed = json.loads(df_json)\n",
    "\n",
    "with open(\"datasets/final/ratings_final.json\", \"w\", encoding=\"utf-8\") as f:\n",
    "    json.dump(parsed, f, indent=4)"
   ]
  },
  {
   "cell_type": "code",
   "execution_count": 112,
   "metadata": {},
   "outputs": [],
   "source": [
    "df_json = df_main.to_json(orient=\"records\")\n",
    "parsed = json.loads(df_json)\n",
    "\n",
    "with open(\"datasets/final/ratings_final.json\", \"w\", encoding=\"utf-8\") as f:\n",
    "    json.dump(parsed, f, indent=4)"
   ]
  },
  {
   "cell_type": "markdown",
   "metadata": {},
   "source": [
    "# 3. Average rating, std & number of ratings by film."
   ]
  },
  {
   "cell_type": "code",
   "execution_count": 209,
   "metadata": {},
   "outputs": [],
   "source": [
    "import pandas as pd\n",
    "import numpy as np\n",
    "import json"
   ]
  },
  {
   "cell_type": "code",
   "execution_count": 210,
   "metadata": {},
   "outputs": [],
   "source": [
    "df_films = pd.read_json(\"datasets/final/movies_final.json\", orient=\"records\")\n",
    "df_rt = pd.read_json(\"datasets/final/ratings_final.json\", orient=\"records\")"
   ]
  },
  {
   "cell_type": "code",
   "execution_count": 211,
   "metadata": {},
   "outputs": [
    {
     "data": {
      "text/html": [
       "<div>\n",
       "<style scoped>\n",
       "    .dataframe tbody tr th:only-of-type {\n",
       "        vertical-align: middle;\n",
       "    }\n",
       "\n",
       "    .dataframe tbody tr th {\n",
       "        vertical-align: top;\n",
       "    }\n",
       "\n",
       "    .dataframe thead th {\n",
       "        text-align: right;\n",
       "    }\n",
       "</style>\n",
       "<table border=\"1\" class=\"dataframe\">\n",
       "  <thead>\n",
       "    <tr style=\"text-align: right;\">\n",
       "      <th></th>\n",
       "      <th>movieId</th>\n",
       "      <th>title</th>\n",
       "      <th>genres</th>\n",
       "      <th>year</th>\n",
       "      <th>titleType</th>\n",
       "      <th>director</th>\n",
       "      <th>writer</th>\n",
       "      <th>genre_0</th>\n",
       "      <th>genre_1</th>\n",
       "      <th>genre_2</th>\n",
       "    </tr>\n",
       "  </thead>\n",
       "  <tbody>\n",
       "    <tr>\n",
       "      <th>0</th>\n",
       "      <td>1</td>\n",
       "      <td>Toy Story</td>\n",
       "      <td>[adventure, animation, children]</td>\n",
       "      <td>1995</td>\n",
       "      <td>movie</td>\n",
       "      <td>John Lasseter</td>\n",
       "      <td>John Lasseter</td>\n",
       "      <td>adventure</td>\n",
       "      <td>animation</td>\n",
       "      <td>children</td>\n",
       "    </tr>\n",
       "  </tbody>\n",
       "</table>\n",
       "</div>"
      ],
      "text/plain": [
       "   movieId      title                            genres  year titleType  \\\n",
       "0        1  Toy Story  [adventure, animation, children]  1995     movie   \n",
       "\n",
       "        director         writer    genre_0    genre_1   genre_2  \n",
       "0  John Lasseter  John Lasseter  adventure  animation  children  "
      ]
     },
     "execution_count": 211,
     "metadata": {},
     "output_type": "execute_result"
    }
   ],
   "source": [
    "df_films.head(1)"
   ]
  },
  {
   "cell_type": "code",
   "execution_count": 212,
   "metadata": {},
   "outputs": [],
   "source": [
    "# Create columns 'mean' and 'std'\n",
    "df_films['vote_average'] = np.NaN\n",
    "df_films['vote_std'] = np.NaN\n",
    "df_films['vote_count'] = np.NaN"
   ]
  },
  {
   "cell_type": "code",
   "execution_count": 213,
   "metadata": {},
   "outputs": [
    {
     "data": {
      "text/plain": [
       "40609"
      ]
     },
     "execution_count": 213,
     "metadata": {},
     "output_type": "execute_result"
    }
   ],
   "source": [
    "df_films.shape[0]"
   ]
  },
  {
   "cell_type": "code",
   "execution_count": 214,
   "metadata": {},
   "outputs": [
    {
     "data": {
      "text/plain": [
       "16903579"
      ]
     },
     "execution_count": 214,
     "metadata": {},
     "output_type": "execute_result"
    }
   ],
   "source": [
    "df_rt.shape[0]"
   ]
  },
  {
   "cell_type": "code",
   "execution_count": 215,
   "metadata": {},
   "outputs": [
    {
     "data": {
      "text/plain": [
       "4.1886911757191765"
      ]
     },
     "execution_count": 215,
     "metadata": {},
     "output_type": "execute_result"
    }
   ],
   "source": [
    "df_rt[df_rt['movieId'] == 296]['rating'].mean()"
   ]
  },
  {
   "cell_type": "code",
   "execution_count": 216,
   "metadata": {},
   "outputs": [],
   "source": [
    "# Define functions to calculate mean and std.\n",
    "def calculate_mean(x):\n",
    "    return df_rt[df_rt['movieId'] == x]['rating'].mean()\n",
    "\n",
    "def calculate_std(x):\n",
    "    return df_rt[df_rt['movieId'] == x]['rating'].std()\n",
    "\n",
    "def count_votes(x):\n",
    "    return df_rt[df_rt['movieId'] == x].count()"
   ]
  },
  {
   "cell_type": "code",
   "execution_count": 217,
   "metadata": {},
   "outputs": [],
   "source": [
    "df_films['vote_average'] = df_films['movieId'].apply(calculate_mean)"
   ]
  },
  {
   "cell_type": "code",
   "execution_count": 218,
   "metadata": {},
   "outputs": [],
   "source": [
    "df_films['vote_std'] = df_films['movieId'].apply(calculate_std)"
   ]
  },
  {
   "cell_type": "code",
   "execution_count": 223,
   "metadata": {},
   "outputs": [],
   "source": [
    "df_films['vote_count'] = df_films['movieId'].apply(count_votes)"
   ]
  },
  {
   "cell_type": "code",
   "execution_count": 224,
   "metadata": {},
   "outputs": [
    {
     "data": {
      "text/plain": [
       "movieId             0\n",
       "title               0\n",
       "genres              0\n",
       "year                0\n",
       "titleType           0\n",
       "director            0\n",
       "writer              0\n",
       "genre_0             0\n",
       "genre_1         19149\n",
       "genre_2         31577\n",
       "vote_average    30872\n",
       "vote_std        30872\n",
       "vote_count          0\n",
       "dtype: int64"
      ]
     },
     "execution_count": 224,
     "metadata": {},
     "output_type": "execute_result"
    }
   ],
   "source": [
    "df_films.isnull().sum()"
   ]
  },
  {
   "cell_type": "code",
   "execution_count": 225,
   "metadata": {},
   "outputs": [],
   "source": [
    "# We will drop the films with no reviews.\n",
    "df_films = df_films[df_films.notna()]"
   ]
  },
  {
   "cell_type": "code",
   "execution_count": 226,
   "metadata": {},
   "outputs": [
    {
     "data": {
      "text/plain": [
       "40609"
      ]
     },
     "execution_count": 226,
     "metadata": {},
     "output_type": "execute_result"
    }
   ],
   "source": [
    "df_films.shape[0]"
   ]
  },
  {
   "cell_type": "code",
   "execution_count": 227,
   "metadata": {},
   "outputs": [],
   "source": [
    "df_json = df_films.to_json(orient=\"records\")\n",
    "parsed = json.loads(df_json)\n",
    "\n",
    "with open(\"datasets/final/movies_final.json\", \"w\", encoding=\"utf-8\") as f:\n",
    "    json.dump(parsed, f, indent=4)"
   ]
  },
  {
   "cell_type": "code",
   "execution_count": 228,
   "metadata": {},
   "outputs": [],
   "source": [
    "# We have to update the reviews dataset.\n",
    "df_rt = pd.read_json(\"datasets/final/ratings_final.json\", orient=\"records\")\n",
    "\n",
    "df_rt = df_rt[df_rt['movieId'].isin(df_films['movieId'])]\n",
    "\n",
    "df_json = df_rt.to_json(orient=\"records\")\n",
    "parsed = json.loads(df_json)\n",
    "\n",
    "with open(\"datasets/final/ratings_final.json\", \"w\", encoding=\"utf-8\") as f:\n",
    "    json.dump(parsed, f, indent=4)\n",
    "\n"
   ]
  },
  {
   "cell_type": "code",
   "execution_count": 229,
   "metadata": {},
   "outputs": [
    {
     "data": {
      "text/plain": [
       "16903579"
      ]
     },
     "execution_count": 229,
     "metadata": {},
     "output_type": "execute_result"
    }
   ],
   "source": [
    "df_rt.shape[0]  # 16.903.579"
   ]
  },
  {
   "cell_type": "markdown",
   "metadata": {},
   "source": [
    "---"
   ]
  },
  {
   "cell_type": "markdown",
   "metadata": {},
   "source": [
    "# 4. Reduced datasets"
   ]
  },
  {
   "cell_type": "markdown",
   "metadata": {},
   "source": [
    "## 50%"
   ]
  },
  {
   "cell_type": "code",
   "execution_count": 230,
   "metadata": {},
   "outputs": [
    {
     "data": {
      "text/plain": [
       "40609"
      ]
     },
     "execution_count": 230,
     "metadata": {},
     "output_type": "execute_result"
    }
   ],
   "source": [
    "df_films = pd.read_json(\"datasets/final/movies_final.json\", orient=\"records\")\n",
    "\n",
    "# 1st, reduce the films dataset.\n",
    "#df_films = pd.read_json(\"datasets/final/movies_final.json\", orient=\"records\")\n",
    "\n",
    "df_films.shape[0]"
   ]
  },
  {
   "cell_type": "code",
   "execution_count": 231,
   "metadata": {},
   "outputs": [
    {
     "data": {
      "text/plain": [
       "20304"
      ]
     },
     "execution_count": 231,
     "metadata": {},
     "output_type": "execute_result"
    }
   ],
   "source": [
    "df_films = df_films.sample(frac=0.50)\n",
    "\n",
    "df_films.shape[0]"
   ]
  },
  {
   "cell_type": "code",
   "execution_count": 232,
   "metadata": {},
   "outputs": [],
   "source": [
    "df_json = df_films.to_json(orient=\"records\")\n",
    "parsed = json.loads(df_json)\n",
    "\n",
    "with open(\"datasets/final/movies_reduced_50.json\", \"w\", encoding=\"utf-8\") as f:\n",
    "    json.dump(parsed, f, indent=4)"
   ]
  },
  {
   "cell_type": "code",
   "execution_count": 233,
   "metadata": {},
   "outputs": [
    {
     "data": {
      "text/plain": [
       "16903579"
      ]
     },
     "execution_count": 233,
     "metadata": {},
     "output_type": "execute_result"
    }
   ],
   "source": [
    "df_rt = pd.read_json(\"datasets/final/ratings_final.json\", orient=\"records\")\n",
    "\n",
    "\n",
    "# Now ratings dataset\n",
    "#df_rt = pd.read_json(\"datasets/final/ratings_final.json\", orient=\"records\")\n",
    "\n",
    "df_rt.shape[0]"
   ]
  },
  {
   "cell_type": "code",
   "execution_count": 234,
   "metadata": {},
   "outputs": [
    {
     "data": {
      "text/plain": [
       "8702017"
      ]
     },
     "execution_count": 234,
     "metadata": {},
     "output_type": "execute_result"
    }
   ],
   "source": [
    "df_rt = df_rt[df_rt['movieId'].isin(df_films['movieId'])]\n",
    "\n",
    "df_rt.shape[0]"
   ]
  },
  {
   "cell_type": "code",
   "execution_count": 235,
   "metadata": {},
   "outputs": [],
   "source": [
    "df_json = df_rt.to_json(orient=\"records\")\n",
    "parsed = json.loads(df_json)\n",
    "\n",
    "with open(\"datasets/final/ratings_reduced_50.json\", \"w\", encoding=\"utf-8\") as f:\n",
    "    json.dump(parsed, f, indent=4)"
   ]
  },
  {
   "cell_type": "markdown",
   "metadata": {},
   "source": [
    "## 25%"
   ]
  },
  {
   "cell_type": "code",
   "execution_count": 236,
   "metadata": {},
   "outputs": [],
   "source": [
    "import pandas as pd\n",
    "import json"
   ]
  },
  {
   "cell_type": "code",
   "execution_count": 237,
   "metadata": {},
   "outputs": [],
   "source": [
    "# 1st, reduce the films dataset.\n",
    "df_films = pd.read_json(\"datasets/final/movies_final.json\", orient=\"records\")\n",
    "\n",
    "df_films = df_films.sample(frac=0.25)\n",
    "\n",
    "\n",
    "df_json = df_films.to_json(orient=\"records\")\n",
    "parsed = json.loads(df_json)\n",
    "\n",
    "with open(\"datasets/final/movies_reduced_25.json\", \"w\", encoding=\"utf-8\") as f:\n",
    "    json.dump(parsed, f, indent=4)"
   ]
  },
  {
   "cell_type": "code",
   "execution_count": 238,
   "metadata": {},
   "outputs": [
    {
     "data": {
      "text/plain": [
       "4128014"
      ]
     },
     "execution_count": 238,
     "metadata": {},
     "output_type": "execute_result"
    }
   ],
   "source": [
    "# Now ratings dataset\n",
    "df_rt = pd.read_json(\"datasets/final/ratings_final.json\", orient=\"records\")\n",
    "\n",
    "df_rt = df_rt[df_rt['movieId'].isin(df_films['movieId'])]\n",
    "\n",
    "df_rt.shape[0]  # 4.128.014"
   ]
  },
  {
   "cell_type": "code",
   "execution_count": 239,
   "metadata": {},
   "outputs": [],
   "source": [
    "# Even with the reduced dataset there are\n",
    "# way too many ratings for our computing power.\n",
    "# That's why it is reduced even more.\n",
    "df_rt = df_rt.sample(frac=0.15)\n",
    "\n",
    "df_json = df_rt.to_json(orient=\"records\")\n",
    "parsed = json.loads(df_json)\n",
    "\n",
    "with open(\"datasets/final/ratings_reduced_25.json\", \"w\", encoding=\"utf-8\") as f:\n",
    "    json.dump(parsed, f, indent=4)"
   ]
  },
  {
   "cell_type": "code",
   "execution_count": 240,
   "metadata": {},
   "outputs": [
    {
     "data": {
      "text/plain": [
       "619202"
      ]
     },
     "execution_count": 240,
     "metadata": {},
     "output_type": "execute_result"
    }
   ],
   "source": [
    "df_rt.shape[0]"
   ]
  },
  {
   "cell_type": "markdown",
   "metadata": {},
   "source": [
    "---"
   ]
  },
  {
   "cell_type": "markdown",
   "metadata": {},
   "source": [
    "# 5. Encoding\n",
    "\n",
    "Noninal attributes have to be encoded for the algorithms to work. One-hot encoding is tipically used for nominal attributes, but the increment in dimensionality (+24 dimensions) is deemed to be too high. Thus, we've opted for a label encoding, which would otherwise be more suitable for ordinal string attributes."
   ]
  },
  {
   "cell_type": "code",
   "execution_count": 241,
   "metadata": {},
   "outputs": [],
   "source": [
    "# Libraries\n",
    "import pandas as pd\n",
    "import numpy as np\n",
    "import json\n",
    "\n",
    "# Encoding + normalization.\n",
    "from sklearn.preprocessing import LabelEncoder\n",
    "from sklearn.preprocessing import OneHotEncoder\n",
    "from sklearn.preprocessing import MinMaxScaler\n",
    "\n",
    "from pickle import dump # To save and read binaries of models and scalers\n"
   ]
  },
  {
   "cell_type": "code",
   "execution_count": 242,
   "metadata": {},
   "outputs": [],
   "source": [
    "# We're mainly working with the smaller dataset.\n",
    "df_movies = pd.read_json(\"datasets/final/movies_reduced_25.json\", orient=\"records\")"
   ]
  },
  {
   "cell_type": "code",
   "execution_count": 243,
   "metadata": {},
   "outputs": [],
   "source": [
    "# dict holding the column name and its respective encoder.\n",
    "encoder_dict = {}"
   ]
  },
  {
   "cell_type": "markdown",
   "metadata": {},
   "source": [
    "## Title"
   ]
  },
  {
   "cell_type": "code",
   "execution_count": 145,
   "metadata": {},
   "outputs": [
    {
     "data": {
      "text/html": [
       "<div>\n",
       "<style scoped>\n",
       "    .dataframe tbody tr th:only-of-type {\n",
       "        vertical-align: middle;\n",
       "    }\n",
       "\n",
       "    .dataframe tbody tr th {\n",
       "        vertical-align: top;\n",
       "    }\n",
       "\n",
       "    .dataframe thead th {\n",
       "        text-align: right;\n",
       "    }\n",
       "</style>\n",
       "<table border=\"1\" class=\"dataframe\">\n",
       "  <thead>\n",
       "    <tr style=\"text-align: right;\">\n",
       "      <th></th>\n",
       "      <th>movieId</th>\n",
       "      <th>title</th>\n",
       "      <th>genres</th>\n",
       "      <th>year</th>\n",
       "      <th>titleType</th>\n",
       "      <th>director</th>\n",
       "      <th>writer</th>\n",
       "      <th>genre_0</th>\n",
       "      <th>genre_1</th>\n",
       "      <th>genre_2</th>\n",
       "      <th>vote_average</th>\n",
       "      <th>vote_std</th>\n",
       "      <th>vote_count</th>\n",
       "    </tr>\n",
       "  </thead>\n",
       "  <tbody>\n",
       "    <tr>\n",
       "      <th>0</th>\n",
       "      <td>7329</td>\n",
       "      <td>4297</td>\n",
       "      <td>[drama]</td>\n",
       "      <td>1962</td>\n",
       "      <td>movie</td>\n",
       "      <td>Edward Dmytryk</td>\n",
       "      <td>Nelson Algren</td>\n",
       "      <td>drama</td>\n",
       "      <td>None</td>\n",
       "      <td>None</td>\n",
       "      <td>2.916667</td>\n",
       "      <td>1.241639</td>\n",
       "      <td>6</td>\n",
       "    </tr>\n",
       "    <tr>\n",
       "      <th>1</th>\n",
       "      <td>163304</td>\n",
       "      <td>1287</td>\n",
       "      <td>[drama]</td>\n",
       "      <td>2014</td>\n",
       "      <td>movie</td>\n",
       "      <td>Najwa Najjar</td>\n",
       "      <td>Najwa Najjar</td>\n",
       "      <td>drama</td>\n",
       "      <td>None</td>\n",
       "      <td>None</td>\n",
       "      <td>2.500000</td>\n",
       "      <td>1.414214</td>\n",
       "      <td>2</td>\n",
       "    </tr>\n",
       "  </tbody>\n",
       "</table>\n",
       "</div>"
      ],
      "text/plain": [
       "   movieId  title   genres  year titleType        director         writer  \\\n",
       "0     7329   4297  [drama]  1962     movie  Edward Dmytryk  Nelson Algren   \n",
       "1   163304   1287  [drama]  2014     movie    Najwa Najjar   Najwa Najjar   \n",
       "\n",
       "  genre_0 genre_1 genre_2  vote_average  vote_std  vote_count  \n",
       "0   drama    None    None      2.916667  1.241639           6  \n",
       "1   drama    None    None      2.500000  1.414214           2  "
      ]
     },
     "execution_count": 145,
     "metadata": {},
     "output_type": "execute_result"
    }
   ],
   "source": [
    "# Label encoding. 'le' variable is used for later decoding.\n",
    "le = LabelEncoder()\n",
    "df_movies['title'] = le.fit_transform(df_movies['title'])\n",
    "\n",
    "# Add encoder to dict\n",
    "encoder_dict['title'] = le\n",
    "\n",
    "df_movies.head(2)"
   ]
  },
  {
   "cell_type": "markdown",
   "metadata": {},
   "source": [
    "## Genres\n",
    "\n",
    "As we can see bellow, there are 20 different genres. (With this smaller number we can try to apply the one-hot encoding method.) Label encoding will be used as 1-hot adds too many dimensions and computational complexity."
   ]
  },
  {
   "cell_type": "code",
   "execution_count": 146,
   "metadata": {},
   "outputs": [
    {
     "data": {
      "text/plain": [
       "array(['drama', 'adventure', 'horror', 'mystery', 'thriller', 'romance',\n",
       "       'crime', 'action', 'comedy', 'sci-fi', 'animation', 'war',\n",
       "       'musical', 'children', 'fantasy', 'documentary',\n",
       "       '(no genres listed)', 'western', 'film-noir', 'imax'], dtype=object)"
      ]
     },
     "execution_count": 146,
     "metadata": {},
     "output_type": "execute_result"
    }
   ],
   "source": [
    "df_movies['genres'].explode().unique()"
   ]
  },
  {
   "cell_type": "markdown",
   "metadata": {},
   "source": [
    "### One-hot encoding (NOT USED)"
   ]
  },
  {
   "cell_type": "code",
   "execution_count": 147,
   "metadata": {},
   "outputs": [],
   "source": [
    "# PREVIOUS!!\n",
    "\n",
    "# # One-hot encoder.\n",
    "# enc = OneHotEncoder(handle_unknown='ignore')\n",
    "\n",
    "# # Fitting requires a 2D array. Reshape converts our 1D array into 2D.\n",
    "# arr = np.array(df_movies['genres'].explode().unique()).reshape(-1,1)\n",
    "\n",
    "# enc.fit(arr)\n",
    "\n",
    "# # Add encoder to dict\n",
    "# encoder_dict['genres'] = enc"
   ]
  },
  {
   "cell_type": "code",
   "execution_count": 148,
   "metadata": {},
   "outputs": [],
   "source": [
    "# PREVIOUS!!\n",
    "\n",
    "# # Example of transformation and inverse transformation.\n",
    "# tr = enc.transform([['action'], ['adventure']]).toarray()\n",
    "# tr"
   ]
  },
  {
   "cell_type": "code",
   "execution_count": 149,
   "metadata": {},
   "outputs": [],
   "source": [
    "# PREVIOUS!!\n",
    "\n",
    "# enc.inverse_transform(tr)"
   ]
  },
  {
   "cell_type": "code",
   "execution_count": 150,
   "metadata": {},
   "outputs": [],
   "source": [
    "# PREVIOUS!!\n",
    "\n",
    "# # Applying one-hot encoding to each row in genres.\n",
    "\n",
    "# # 1st, define function to apply:\n",
    "# def one_hot_encode(x, enc):\n",
    "#     \"\"\"\n",
    "#     Encodes a 1D array using one-hot encoding.\n",
    "\n",
    "#     Some \n",
    "#     Parameters\n",
    "#     ---------- \n",
    "#     x : 1D list of parameters to encode.\n",
    "#     enc : already defined one-hot encoder.\n",
    "        \n",
    "#     Returns\n",
    "#     -------\n",
    "#     1D array containing the encoding.\n",
    "#     \"\"\"\n",
    "#     arr = enc.transform(np.array(x).reshape(-1,1)).toarray()\n",
    "    \n",
    "#     # sum: [[0,1,0,0], [1,0,0,0]] -> [1,1,0,0].\n",
    "#     return sum(arr)\n",
    "\n",
    "# # Now that we're at it, a decoding function should be defined as well.\n",
    "# def one_hot_decode(x, enc):\n",
    "#     \"\"\"\n",
    "#     Decodes a 1D vector using one-hot encoding.\n",
    "\n",
    "#     Parameters\n",
    "#     ---------- \n",
    "#     x : 2D vectori with previously encoded parameters.\n",
    "#     enc : already defined one-hot encoder.\n",
    "\n",
    "#     Returns\n",
    "#     -------\n",
    "#     1D array containing the decoded parameters.\n",
    "#     \"\"\"\n",
    "#     # TODO: transformation to 2D array and posterior decoding.\n",
    "#     return np.array(enc.inverse_transform(x)).flatten()"
   ]
  },
  {
   "cell_type": "code",
   "execution_count": 151,
   "metadata": {},
   "outputs": [],
   "source": [
    "# PREVIOUS!!\n",
    "\n",
    "#df_movies['genres'] = df_movies['genres'].apply(one_hot_encode, enc=enc)"
   ]
  },
  {
   "cell_type": "code",
   "execution_count": 152,
   "metadata": {},
   "outputs": [],
   "source": [
    "# PREVIOUS!!\n",
    "\n",
    "#df_movies['genres'].head(200)[2]"
   ]
  },
  {
   "cell_type": "markdown",
   "metadata": {},
   "source": [
    "### Label encoding"
   ]
  },
  {
   "cell_type": "code",
   "execution_count": 153,
   "metadata": {},
   "outputs": [],
   "source": [
    "def label_encoder(x, encoder):\n",
    "    return encoder.transform([x])[0]\n",
    "\n",
    "# TODO: check this works.\n",
    "def label_decoder(x, encoder):\n",
    "    return encoder.inverse_transform(x)"
   ]
  },
  {
   "cell_type": "code",
   "execution_count": 154,
   "metadata": {},
   "outputs": [
    {
     "data": {
      "text/html": [
       "<div>\n",
       "<style scoped>\n",
       "    .dataframe tbody tr th:only-of-type {\n",
       "        vertical-align: middle;\n",
       "    }\n",
       "\n",
       "    .dataframe tbody tr th {\n",
       "        vertical-align: top;\n",
       "    }\n",
       "\n",
       "    .dataframe thead th {\n",
       "        text-align: right;\n",
       "    }\n",
       "</style>\n",
       "<table border=\"1\" class=\"dataframe\">\n",
       "  <thead>\n",
       "    <tr style=\"text-align: right;\">\n",
       "      <th></th>\n",
       "      <th>movieId</th>\n",
       "      <th>title</th>\n",
       "      <th>genres</th>\n",
       "      <th>year</th>\n",
       "      <th>titleType</th>\n",
       "      <th>director</th>\n",
       "      <th>writer</th>\n",
       "      <th>genre_0</th>\n",
       "      <th>genre_1</th>\n",
       "      <th>genre_2</th>\n",
       "      <th>vote_average</th>\n",
       "      <th>vote_std</th>\n",
       "      <th>vote_count</th>\n",
       "    </tr>\n",
       "  </thead>\n",
       "  <tbody>\n",
       "    <tr>\n",
       "      <th>0</th>\n",
       "      <td>7329</td>\n",
       "      <td>4297</td>\n",
       "      <td>[drama]</td>\n",
       "      <td>1962</td>\n",
       "      <td>movie</td>\n",
       "      <td>Edward Dmytryk</td>\n",
       "      <td>Nelson Algren</td>\n",
       "      <td>8</td>\n",
       "      <td>20</td>\n",
       "      <td>20</td>\n",
       "      <td>2.916667</td>\n",
       "      <td>1.241639</td>\n",
       "      <td>6</td>\n",
       "    </tr>\n",
       "    <tr>\n",
       "      <th>1</th>\n",
       "      <td>163304</td>\n",
       "      <td>1287</td>\n",
       "      <td>[drama]</td>\n",
       "      <td>2014</td>\n",
       "      <td>movie</td>\n",
       "      <td>Najwa Najjar</td>\n",
       "      <td>Najwa Najjar</td>\n",
       "      <td>8</td>\n",
       "      <td>20</td>\n",
       "      <td>20</td>\n",
       "      <td>2.500000</td>\n",
       "      <td>1.414214</td>\n",
       "      <td>2</td>\n",
       "    </tr>\n",
       "  </tbody>\n",
       "</table>\n",
       "</div>"
      ],
      "text/plain": [
       "   movieId  title   genres  year titleType        director         writer  \\\n",
       "0     7329   4297  [drama]  1962     movie  Edward Dmytryk  Nelson Algren   \n",
       "1   163304   1287  [drama]  2014     movie    Najwa Najjar   Najwa Najjar   \n",
       "\n",
       "   genre_0  genre_1  genre_2  vote_average  vote_std  vote_count  \n",
       "0        8       20       20      2.916667  1.241639           6  \n",
       "1        8       20       20      2.500000  1.414214           2  "
      ]
     },
     "execution_count": 154,
     "metadata": {},
     "output_type": "execute_result"
    }
   ],
   "source": [
    "# Label encoding. 'le' variable is used for later decoding.\n",
    "le = LabelEncoder()\n",
    "le.fit(\n",
    "    np.append(df_movies['genres'].explode().unique(), None)\n",
    "    )\n",
    "df_movies['genre_0'] = df_movies['genre_0'].apply(label_encoder, encoder=le)\n",
    "df_movies['genre_1'] = df_movies['genre_1'].apply(label_encoder, encoder=le)\n",
    "df_movies['genre_2'] = df_movies['genre_2'].apply(label_encoder, encoder=le)\n",
    "\n",
    "\n",
    "# Add encoder to dict\n",
    "encoder_dict['genres'] = le\n",
    "\n",
    "df_movies.head(2)"
   ]
  },
  {
   "cell_type": "markdown",
   "metadata": {},
   "source": [
    "## Movie type"
   ]
  },
  {
   "cell_type": "code",
   "execution_count": 155,
   "metadata": {},
   "outputs": [
    {
     "data": {
      "text/plain": [
       "array(['movie', 'short', 'tvShort', 'tvMovie'], dtype=object)"
      ]
     },
     "execution_count": 155,
     "metadata": {},
     "output_type": "execute_result"
    }
   ],
   "source": [
    "df_movies['titleType'].explode().unique()"
   ]
  },
  {
   "cell_type": "markdown",
   "metadata": {},
   "source": [
    "### One-hot encoding\n",
    "\n",
    "In similar fasion to 'genres', one-hot encoding is not used in the end."
   ]
  },
  {
   "cell_type": "code",
   "execution_count": 156,
   "metadata": {},
   "outputs": [],
   "source": [
    "# # One-hot encoder.\n",
    "# enc = OneHotEncoder(handle_unknown='ignore')\n",
    "\n",
    "# # Fitting requires a 2D array. Reshape converts our 1D array into 2D.\n",
    "# arr = np.array(df_movies['titleType'].explode().unique()).reshape(-1,1)\n",
    "\n",
    "# enc.fit(arr)\n",
    "\n",
    "# # Add encoder to dict\n",
    "# encoder_dict['titleType'] = enc"
   ]
  },
  {
   "cell_type": "code",
   "execution_count": 157,
   "metadata": {},
   "outputs": [],
   "source": [
    "# df_movies['titleType'] = df_movies['titleType'].apply(one_hot_encode, enc=enc)"
   ]
  },
  {
   "cell_type": "markdown",
   "metadata": {},
   "source": [
    "### Label encoding"
   ]
  },
  {
   "cell_type": "code",
   "execution_count": 158,
   "metadata": {},
   "outputs": [],
   "source": [
    "# Label encoding. 'le' variable is used for later decoding.\n",
    "le = LabelEncoder()\n",
    "df_movies['titleType'] = le.fit_transform(df_movies['titleType'])\n",
    "\n",
    "# Add encoder to dict\n",
    "encoder_dict['titleType'] = le\n",
    "\n",
    "df_movies.head(2)\n",
    "\n",
    "\n",
    "df_movies['titleType'] = le.fit_transform(df_movies['titleType'])\n"
   ]
  },
  {
   "cell_type": "markdown",
   "metadata": {},
   "source": [
    "## Directors"
   ]
  },
  {
   "cell_type": "code",
   "execution_count": 159,
   "metadata": {},
   "outputs": [
    {
     "data": {
      "text/plain": [
       "3495"
      ]
     },
     "execution_count": 159,
     "metadata": {},
     "output_type": "execute_result"
    }
   ],
   "source": [
    "len(df_movies['director'].explode().unique())"
   ]
  },
  {
   "cell_type": "code",
   "execution_count": 160,
   "metadata": {},
   "outputs": [
    {
     "data": {
      "text/html": [
       "<div>\n",
       "<style scoped>\n",
       "    .dataframe tbody tr th:only-of-type {\n",
       "        vertical-align: middle;\n",
       "    }\n",
       "\n",
       "    .dataframe tbody tr th {\n",
       "        vertical-align: top;\n",
       "    }\n",
       "\n",
       "    .dataframe thead th {\n",
       "        text-align: right;\n",
       "    }\n",
       "</style>\n",
       "<table border=\"1\" class=\"dataframe\">\n",
       "  <thead>\n",
       "    <tr style=\"text-align: right;\">\n",
       "      <th></th>\n",
       "      <th>movieId</th>\n",
       "      <th>title</th>\n",
       "      <th>genres</th>\n",
       "      <th>year</th>\n",
       "      <th>titleType</th>\n",
       "      <th>director</th>\n",
       "      <th>writer</th>\n",
       "      <th>genre_0</th>\n",
       "      <th>genre_1</th>\n",
       "      <th>genre_2</th>\n",
       "      <th>vote_average</th>\n",
       "      <th>vote_std</th>\n",
       "      <th>vote_count</th>\n",
       "    </tr>\n",
       "  </thead>\n",
       "  <tbody>\n",
       "    <tr>\n",
       "      <th>0</th>\n",
       "      <td>7329</td>\n",
       "      <td>4297</td>\n",
       "      <td>[drama]</td>\n",
       "      <td>1962</td>\n",
       "      <td>0</td>\n",
       "      <td>890</td>\n",
       "      <td>Nelson Algren</td>\n",
       "      <td>8</td>\n",
       "      <td>20</td>\n",
       "      <td>20</td>\n",
       "      <td>2.916667</td>\n",
       "      <td>1.241639</td>\n",
       "      <td>6</td>\n",
       "    </tr>\n",
       "    <tr>\n",
       "      <th>1</th>\n",
       "      <td>163304</td>\n",
       "      <td>1287</td>\n",
       "      <td>[drama]</td>\n",
       "      <td>2014</td>\n",
       "      <td>0</td>\n",
       "      <td>2344</td>\n",
       "      <td>Najwa Najjar</td>\n",
       "      <td>8</td>\n",
       "      <td>20</td>\n",
       "      <td>20</td>\n",
       "      <td>2.500000</td>\n",
       "      <td>1.414214</td>\n",
       "      <td>2</td>\n",
       "    </tr>\n",
       "  </tbody>\n",
       "</table>\n",
       "</div>"
      ],
      "text/plain": [
       "   movieId  title   genres  year  titleType  director         writer  genre_0  \\\n",
       "0     7329   4297  [drama]  1962          0       890  Nelson Algren        8   \n",
       "1   163304   1287  [drama]  2014          0      2344   Najwa Najjar        8   \n",
       "\n",
       "   genre_1  genre_2  vote_average  vote_std  vote_count  \n",
       "0       20       20      2.916667  1.241639           6  \n",
       "1       20       20      2.500000  1.414214           2  "
      ]
     },
     "execution_count": 160,
     "metadata": {},
     "output_type": "execute_result"
    }
   ],
   "source": [
    "le = LabelEncoder()\n",
    "df_movies['director'] = le.fit_transform(df_movies['director'])\n",
    "\n",
    "# Add encoder to dict\n",
    "encoder_dict['director'] = le\n",
    "\n",
    "df_movies.head(2)"
   ]
  },
  {
   "cell_type": "markdown",
   "metadata": {},
   "source": [
    "## Writers"
   ]
  },
  {
   "cell_type": "code",
   "execution_count": 161,
   "metadata": {},
   "outputs": [
    {
     "data": {
      "text/plain": [
       "3952"
      ]
     },
     "execution_count": 161,
     "metadata": {},
     "output_type": "execute_result"
    }
   ],
   "source": [
    "len(df_movies['writer'].explode().unique())"
   ]
  },
  {
   "cell_type": "code",
   "execution_count": 162,
   "metadata": {},
   "outputs": [
    {
     "data": {
      "text/html": [
       "<div>\n",
       "<style scoped>\n",
       "    .dataframe tbody tr th:only-of-type {\n",
       "        vertical-align: middle;\n",
       "    }\n",
       "\n",
       "    .dataframe tbody tr th {\n",
       "        vertical-align: top;\n",
       "    }\n",
       "\n",
       "    .dataframe thead th {\n",
       "        text-align: right;\n",
       "    }\n",
       "</style>\n",
       "<table border=\"1\" class=\"dataframe\">\n",
       "  <thead>\n",
       "    <tr style=\"text-align: right;\">\n",
       "      <th></th>\n",
       "      <th>movieId</th>\n",
       "      <th>title</th>\n",
       "      <th>genres</th>\n",
       "      <th>year</th>\n",
       "      <th>titleType</th>\n",
       "      <th>director</th>\n",
       "      <th>writer</th>\n",
       "      <th>genre_0</th>\n",
       "      <th>genre_1</th>\n",
       "      <th>genre_2</th>\n",
       "      <th>vote_average</th>\n",
       "      <th>vote_std</th>\n",
       "      <th>vote_count</th>\n",
       "    </tr>\n",
       "  </thead>\n",
       "  <tbody>\n",
       "    <tr>\n",
       "      <th>0</th>\n",
       "      <td>7329</td>\n",
       "      <td>4297</td>\n",
       "      <td>[drama]</td>\n",
       "      <td>1962</td>\n",
       "      <td>0</td>\n",
       "      <td>890</td>\n",
       "      <td>2687</td>\n",
       "      <td>8</td>\n",
       "      <td>20</td>\n",
       "      <td>20</td>\n",
       "      <td>2.916667</td>\n",
       "      <td>1.241639</td>\n",
       "      <td>6</td>\n",
       "    </tr>\n",
       "    <tr>\n",
       "      <th>1</th>\n",
       "      <td>163304</td>\n",
       "      <td>1287</td>\n",
       "      <td>[drama]</td>\n",
       "      <td>2014</td>\n",
       "      <td>0</td>\n",
       "      <td>2344</td>\n",
       "      <td>2652</td>\n",
       "      <td>8</td>\n",
       "      <td>20</td>\n",
       "      <td>20</td>\n",
       "      <td>2.500000</td>\n",
       "      <td>1.414214</td>\n",
       "      <td>2</td>\n",
       "    </tr>\n",
       "  </tbody>\n",
       "</table>\n",
       "</div>"
      ],
      "text/plain": [
       "   movieId  title   genres  year  titleType  director  writer  genre_0  \\\n",
       "0     7329   4297  [drama]  1962          0       890    2687        8   \n",
       "1   163304   1287  [drama]  2014          0      2344    2652        8   \n",
       "\n",
       "   genre_1  genre_2  vote_average  vote_std  vote_count  \n",
       "0       20       20      2.916667  1.241639           6  \n",
       "1       20       20      2.500000  1.414214           2  "
      ]
     },
     "execution_count": 162,
     "metadata": {},
     "output_type": "execute_result"
    }
   ],
   "source": [
    "le = LabelEncoder()\n",
    "df_movies['writer'] = le.fit_transform(df_movies['writer'])\n",
    "\n",
    "# Add encoder to dict\n",
    "encoder_dict['writer'] = le\n",
    "\n",
    "df_movies.head(2)"
   ]
  },
  {
   "cell_type": "code",
   "execution_count": 163,
   "metadata": {},
   "outputs": [
    {
     "data": {
      "text/plain": [
       "{'title': LabelEncoder(),\n",
       " 'genres': LabelEncoder(),\n",
       " 'titleType': LabelEncoder(),\n",
       " 'director': LabelEncoder(),\n",
       " 'writer': LabelEncoder()}"
      ]
     },
     "execution_count": 163,
     "metadata": {},
     "output_type": "execute_result"
    }
   ],
   "source": [
    "# Checking that all encoders have been added to the dict\n",
    "encoder_dict"
   ]
  },
  {
   "cell_type": "code",
   "execution_count": 164,
   "metadata": {},
   "outputs": [],
   "source": [
    "# Drop movieId and genres column\n",
    "df_movies.drop(['movieId', 'genres'], axis=1, inplace=True)"
   ]
  },
  {
   "cell_type": "code",
   "execution_count": 165,
   "metadata": {},
   "outputs": [],
   "source": [
    "# Save encoders.\n",
    "for k,v in encoder_dict.items():\n",
    "    dump(v, open(f'encoders & scalers/encoder_{k}','wb'))"
   ]
  },
  {
   "cell_type": "markdown",
   "metadata": {},
   "source": [
    "# 6. Normalization"
   ]
  },
  {
   "cell_type": "code",
   "execution_count": 166,
   "metadata": {},
   "outputs": [],
   "source": [
    "# For each column, normalize its data and save the scaler.\n",
    "for col in df_movies.columns:\n",
    "    scaler = MinMaxScaler(feature_range=(0,1))\n",
    "    arr = np.array(df_movies[col]).reshape(-1,1)\n",
    "    scaler.fit(arr)\n",
    "    df_movies[col] = scaler.transform(arr)\n",
    "    dump(scaler, open(f'encoders & scalers/scaler_{col}','wb'))\n"
   ]
  },
  {
   "cell_type": "code",
   "execution_count": 167,
   "metadata": {},
   "outputs": [
    {
     "data": {
      "text/html": [
       "<div>\n",
       "<style scoped>\n",
       "    .dataframe tbody tr th:only-of-type {\n",
       "        vertical-align: middle;\n",
       "    }\n",
       "\n",
       "    .dataframe tbody tr th {\n",
       "        vertical-align: top;\n",
       "    }\n",
       "\n",
       "    .dataframe thead th {\n",
       "        text-align: right;\n",
       "    }\n",
       "</style>\n",
       "<table border=\"1\" class=\"dataframe\">\n",
       "  <thead>\n",
       "    <tr style=\"text-align: right;\">\n",
       "      <th></th>\n",
       "      <th>title</th>\n",
       "      <th>year</th>\n",
       "      <th>titleType</th>\n",
       "      <th>director</th>\n",
       "      <th>writer</th>\n",
       "      <th>genre_0</th>\n",
       "      <th>genre_1</th>\n",
       "      <th>genre_2</th>\n",
       "      <th>vote_average</th>\n",
       "      <th>vote_std</th>\n",
       "      <th>vote_count</th>\n",
       "    </tr>\n",
       "  </thead>\n",
       "  <tbody>\n",
       "    <tr>\n",
       "      <th>0</th>\n",
       "      <td>0.952983</td>\n",
       "      <td>0.971782</td>\n",
       "      <td>0.0</td>\n",
       "      <td>0.254722</td>\n",
       "      <td>0.680081</td>\n",
       "      <td>0.421053</td>\n",
       "      <td>1.0</td>\n",
       "      <td>1.0</td>\n",
       "      <td>0.537037</td>\n",
       "      <td>0.390209</td>\n",
       "      <td>0.00028</td>\n",
       "    </tr>\n",
       "  </tbody>\n",
       "</table>\n",
       "</div>"
      ],
      "text/plain": [
       "      title      year  titleType  director    writer   genre_0  genre_1  \\\n",
       "0  0.952983  0.971782        0.0  0.254722  0.680081  0.421053      1.0   \n",
       "\n",
       "   genre_2  vote_average  vote_std  vote_count  \n",
       "0      1.0      0.537037  0.390209     0.00028  "
      ]
     },
     "execution_count": 167,
     "metadata": {},
     "output_type": "execute_result"
    }
   ],
   "source": [
    "df_movies.head(1)"
   ]
  },
  {
   "cell_type": "markdown",
   "metadata": {},
   "source": [
    "# 7. Save final vectorized dataset"
   ]
  },
  {
   "cell_type": "code",
   "execution_count": 168,
   "metadata": {},
   "outputs": [],
   "source": [
    "df_json = df_movies.to_json(orient=\"records\")\n",
    "parsed = json.loads(df_json)\n",
    "\n",
    "with open(\"datasets/vectorized/movies_vectorized_25.json\", \"w\", encoding=\"utf-8\") as f:\n",
    "    json.dump(parsed, f, indent=4)"
   ]
  },
  {
   "cell_type": "code",
   "execution_count": 170,
   "metadata": {},
   "outputs": [
    {
     "name": "stdout",
     "output_type": "stream",
     "text": [
      "The whole preprocessing process took 15.2203631122907 minutes to execute.\n"
     ]
    }
   ],
   "source": [
    "print(f\"The whole preprocessing process takes {(time.time()-t0)/60} minutes to execute.\")"
   ]
  },
  {
   "cell_type": "markdown",
   "metadata": {},
   "source": [
    "---"
   ]
  }
 ],
 "metadata": {
  "interpreter": {
   "hash": "1136484b14b640bc92a741468fef70e605cd3454f76349c2dcd7ac77dee3e181"
  },
  "kernelspec": {
   "display_name": "Python 3.8.5 64-bit (system)",
   "language": "python",
   "name": "python3"
  },
  "language_info": {
   "codemirror_mode": {
    "name": "ipython",
    "version": 3
   },
   "file_extension": ".py",
   "mimetype": "text/x-python",
   "name": "python",
   "nbconvert_exporter": "python",
   "pygments_lexer": "ipython3",
   "version": "3.8.5"
  },
  "orig_nbformat": 4
 },
 "nbformat": 4,
 "nbformat_minor": 2
}
