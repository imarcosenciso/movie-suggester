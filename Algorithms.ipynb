{
  "cells": [
    {
      "cell_type": "code",
      "execution_count": 70,
      "metadata": {
        "id": "Hrv163osfxIL"
      },
      "outputs": [],
      "source": [
        "import os\n",
        "import time\n",
        "\n",
        "# data science imports\n",
        "import math\n",
        "import numpy as np\n",
        "import pandas as pd\n",
        "from scipy.sparse import csr_matrix\n",
        "from sklearn.neighbors import NearestNeighbors\n",
        "\n",
        "# utils import\n",
        "from fuzzywuzzy import fuzz\n",
        "\n",
        "# visualization imports\n",
        "import seaborn as sns\n",
        "import matplotlib.pyplot as plt\n",
        "plt.style.use('ggplot')\n",
        "\n",
        "%matplotlib inline\n",
        "\n",
        "df_movies = pd.read_json(\"/Users/Nicolás/Desktop/DataMining/movies_final.json\")\n",
        "df_ratings = pd.read_csv(\"/Users/Nicolás/Desktop/DataMining/ratings.csv\")\n",
        "#df_movies2 = pd.read_csv(\"/Users/Nicolás/Desktop/DataMining/movies.csv\")"
      ]
    },
    {
      "cell_type": "code",
      "execution_count": 72,
      "metadata": {},
      "outputs": [
        {
          "data": {
            "text/html": [
              "<div>\n",
              "<style scoped>\n",
              "    .dataframe tbody tr th:only-of-type {\n",
              "        vertical-align: middle;\n",
              "    }\n",
              "\n",
              "    .dataframe tbody tr th {\n",
              "        vertical-align: top;\n",
              "    }\n",
              "\n",
              "    .dataframe thead th {\n",
              "        text-align: right;\n",
              "    }\n",
              "</style>\n",
              "<table border=\"1\" class=\"dataframe\">\n",
              "  <thead>\n",
              "    <tr style=\"text-align: right;\">\n",
              "      <th></th>\n",
              "      <th>movieId</th>\n",
              "      <th>title</th>\n",
              "      <th>genres</th>\n",
              "      <th>year</th>\n",
              "      <th>titleType</th>\n",
              "      <th>director</th>\n",
              "      <th>writer</th>\n",
              "    </tr>\n",
              "  </thead>\n",
              "  <tbody>\n",
              "    <tr>\n",
              "      <th>0</th>\n",
              "      <td>1</td>\n",
              "      <td>Toy Story</td>\n",
              "      <td>[adventure, animation, children, comedy, fantasy]</td>\n",
              "      <td>1995</td>\n",
              "      <td>movie</td>\n",
              "      <td>John Lasseter</td>\n",
              "      <td>John Lasseter</td>\n",
              "    </tr>\n",
              "    <tr>\n",
              "      <th>1</th>\n",
              "      <td>2</td>\n",
              "      <td>Jumanji</td>\n",
              "      <td>[adventure, children, fantasy]</td>\n",
              "      <td>1995</td>\n",
              "      <td>movie</td>\n",
              "      <td>Joe Johnston</td>\n",
              "      <td>Jonathan Hensleigh</td>\n",
              "    </tr>\n",
              "    <tr>\n",
              "      <th>2</th>\n",
              "      <td>3</td>\n",
              "      <td>Grumpier Old Men</td>\n",
              "      <td>[comedy, romance]</td>\n",
              "      <td>1995</td>\n",
              "      <td>movie</td>\n",
              "      <td>Howard Deutch</td>\n",
              "      <td>Mark Steven Johnson</td>\n",
              "    </tr>\n",
              "    <tr>\n",
              "      <th>3</th>\n",
              "      <td>4</td>\n",
              "      <td>Waiting to Exhale</td>\n",
              "      <td>[comedy, drama, romance]</td>\n",
              "      <td>1995</td>\n",
              "      <td>movie</td>\n",
              "      <td>Forest Whitaker</td>\n",
              "      <td>Terry McMillan</td>\n",
              "    </tr>\n",
              "    <tr>\n",
              "      <th>4</th>\n",
              "      <td>5</td>\n",
              "      <td>Father of the Bride Part II</td>\n",
              "      <td>[comedy]</td>\n",
              "      <td>1995</td>\n",
              "      <td>movie</td>\n",
              "      <td>Charles Shyer</td>\n",
              "      <td>Albert Hackett</td>\n",
              "    </tr>\n",
              "    <tr>\n",
              "      <th>...</th>\n",
              "      <td>...</td>\n",
              "      <td>...</td>\n",
              "      <td>...</td>\n",
              "      <td>...</td>\n",
              "      <td>...</td>\n",
              "      <td>...</td>\n",
              "      <td>...</td>\n",
              "    </tr>\n",
              "    <tr>\n",
              "      <th>40604</th>\n",
              "      <td>209153</td>\n",
              "      <td>Happy Flight</td>\n",
              "      <td>[comedy, drama]</td>\n",
              "      <td>2008</td>\n",
              "      <td>movie</td>\n",
              "      <td>Shinobu Yaguchi</td>\n",
              "      <td>Shinobu Yaguchi</td>\n",
              "    </tr>\n",
              "    <tr>\n",
              "      <th>40605</th>\n",
              "      <td>209159</td>\n",
              "      <td>Window of the Soul</td>\n",
              "      <td>[documentary]</td>\n",
              "      <td>2001</td>\n",
              "      <td>movie</td>\n",
              "      <td>João Jardim</td>\n",
              "      <td>Walter Carvalho</td>\n",
              "    </tr>\n",
              "    <tr>\n",
              "      <th>40606</th>\n",
              "      <td>209163</td>\n",
              "      <td>Bad Poems</td>\n",
              "      <td>[comedy, drama]</td>\n",
              "      <td>2018</td>\n",
              "      <td>movie</td>\n",
              "      <td>Gábor Reisz</td>\n",
              "      <td>Gábor Reisz</td>\n",
              "    </tr>\n",
              "    <tr>\n",
              "      <th>40607</th>\n",
              "      <td>209169</td>\n",
              "      <td>A Girl Thing</td>\n",
              "      <td>[(no genres listed)]</td>\n",
              "      <td>2001</td>\n",
              "      <td>tvMovie</td>\n",
              "      <td>Lee Rose</td>\n",
              "      <td>Lee Rose</td>\n",
              "    </tr>\n",
              "    <tr>\n",
              "      <th>40608</th>\n",
              "      <td>209171</td>\n",
              "      <td>Women of Devil's Island</td>\n",
              "      <td>[action, adventure, drama]</td>\n",
              "      <td>1962</td>\n",
              "      <td>movie</td>\n",
              "      <td>Domenico Paolella</td>\n",
              "      <td>Ernesto Gastaldi</td>\n",
              "    </tr>\n",
              "  </tbody>\n",
              "</table>\n",
              "<p>40609 rows × 7 columns</p>\n",
              "</div>"
            ],
            "text/plain": [
              "       movieId                        title  \\\n",
              "0            1                    Toy Story   \n",
              "1            2                      Jumanji   \n",
              "2            3             Grumpier Old Men   \n",
              "3            4            Waiting to Exhale   \n",
              "4            5  Father of the Bride Part II   \n",
              "...        ...                          ...   \n",
              "40604   209153                 Happy Flight   \n",
              "40605   209159           Window of the Soul   \n",
              "40606   209163                    Bad Poems   \n",
              "40607   209169                 A Girl Thing   \n",
              "40608   209171      Women of Devil's Island   \n",
              "\n",
              "                                                  genres  year titleType  \\\n",
              "0      [adventure, animation, children, comedy, fantasy]  1995     movie   \n",
              "1                         [adventure, children, fantasy]  1995     movie   \n",
              "2                                      [comedy, romance]  1995     movie   \n",
              "3                               [comedy, drama, romance]  1995     movie   \n",
              "4                                               [comedy]  1995     movie   \n",
              "...                                                  ...   ...       ...   \n",
              "40604                                    [comedy, drama]  2008     movie   \n",
              "40605                                      [documentary]  2001     movie   \n",
              "40606                                    [comedy, drama]  2018     movie   \n",
              "40607                               [(no genres listed)]  2001   tvMovie   \n",
              "40608                         [action, adventure, drama]  1962     movie   \n",
              "\n",
              "                director               writer  \n",
              "0          John Lasseter        John Lasseter  \n",
              "1           Joe Johnston   Jonathan Hensleigh  \n",
              "2          Howard Deutch  Mark Steven Johnson  \n",
              "3        Forest Whitaker       Terry McMillan  \n",
              "4          Charles Shyer       Albert Hackett  \n",
              "...                  ...                  ...  \n",
              "40604    Shinobu Yaguchi      Shinobu Yaguchi  \n",
              "40605        João Jardim      Walter Carvalho  \n",
              "40606        Gábor Reisz          Gábor Reisz  \n",
              "40607           Lee Rose             Lee Rose  \n",
              "40608  Domenico Paolella     Ernesto Gastaldi  \n",
              "\n",
              "[40609 rows x 7 columns]"
            ]
          },
          "execution_count": 72,
          "metadata": {},
          "output_type": "execute_result"
        }
      ],
      "source": [
        "df_movies"
      ]
    },
    {
      "cell_type": "code",
      "execution_count": 73,
      "metadata": {},
      "outputs": [
        {
          "name": "stdout",
          "output_type": "stream",
          "text": [
            "       movieId                                              title  \\\n",
            "578        915                                            Sabrina   \n",
            "832       1344                                          Cape Fear   \n",
            "1207      1941                                             Hamlet   \n",
            "1474      2367                                          King Kong   \n",
            "1491      2389                                             Psycho   \n",
            "...        ...                                                ...   \n",
            "40558   208799                                               Head   \n",
            "40559   208800                                 Lady and the Tramp   \n",
            "40563   208821  Fireworks, Should We See It from the Side or t...   \n",
            "40569   208861                                               Next   \n",
            "40600   209143                                       The Painting   \n",
            "\n",
            "                                                genres  year titleType  \\\n",
            "578                                  [comedy, romance]  1954     movie   \n",
            "832                           [crime, drama, thriller]  1962     movie   \n",
            "1207                                           [drama]  1948     movie   \n",
            "1474   [adventure, fantasy, romance, sci-fi, thriller]  1976     movie   \n",
            "1491                         [crime, horror, thriller]  1998     movie   \n",
            "...                                                ...   ...       ...   \n",
            "40558                                 [comedy, horror]  2015     movie   \n",
            "40559                                [comedy, romance]  2019     movie   \n",
            "40563                                 [drama, romance]  1995     movie   \n",
            "40569                                      [animation]  1990     short   \n",
            "40600                         [animation, documentary]  2019     movie   \n",
            "\n",
            "                   director                  writer  \n",
            "578            Billy Wilder            Billy Wilder  \n",
            "832         J. Lee Thompson       John D. MacDonald  \n",
            "1207         Mario Caserini     William Shakespeare  \n",
            "1474   Ernest B. Schoedsack  James Ashmore Creelman  \n",
            "1491       Alfred Hitchcock          Joseph Stefano  \n",
            "...                     ...                     ...  \n",
            "40558          Bob Rafelson            Bob Rafelson  \n",
            "40559        Hamilton Luske             Ward Greene  \n",
            "40563           Shunji Iwai             Shunji Iwai  \n",
            "40569          Barry Purves     William Shakespeare  \n",
            "40600        Joshua D. Rose         Buddy Sheffield  \n",
            "\n",
            "[3323 rows x 7 columns]\n"
          ]
        }
      ],
      "source": [
        "duplicateRowsDF = df_movies[df_movies.duplicated(['title'])]\n",
        "print(duplicateRowsDF)"
      ]
    },
    {
      "cell_type": "markdown",
      "metadata": {
        "id": "lMIIHkdCNx9r"
      },
      "source": [
        "# **KNN**"
      ]
    },
    {
      "cell_type": "code",
      "execution_count": 6,
      "metadata": {
        "colab": {
          "base_uri": "https://localhost:8080/",
          "height": 676
        },
        "id": "9B0cxB2VhHGf",
        "outputId": "02f80872-6289-4c2c-a2f6-e59bf4de2eb4"
      },
      "outputs": [
        {
          "data": {
            "text/html": [
              "<div>\n",
              "<style scoped>\n",
              "    .dataframe tbody tr th:only-of-type {\n",
              "        vertical-align: middle;\n",
              "    }\n",
              "\n",
              "    .dataframe tbody tr th {\n",
              "        vertical-align: top;\n",
              "    }\n",
              "\n",
              "    .dataframe thead th {\n",
              "        text-align: right;\n",
              "    }\n",
              "</style>\n",
              "<table border=\"1\" class=\"dataframe\">\n",
              "  <thead>\n",
              "    <tr style=\"text-align: right;\">\n",
              "      <th></th>\n",
              "      <th>movieId</th>\n",
              "      <th>title</th>\n",
              "      <th>genres</th>\n",
              "      <th>year</th>\n",
              "      <th>titleType</th>\n",
              "      <th>director</th>\n",
              "      <th>writer</th>\n",
              "    </tr>\n",
              "  </thead>\n",
              "  <tbody>\n",
              "    <tr>\n",
              "      <th>0</th>\n",
              "      <td>1</td>\n",
              "      <td>Toy Story</td>\n",
              "      <td>[adventure, animation, children, comedy, fantasy]</td>\n",
              "      <td>1995</td>\n",
              "      <td>movie</td>\n",
              "      <td>John Lasseter</td>\n",
              "      <td>John Lasseter</td>\n",
              "    </tr>\n",
              "    <tr>\n",
              "      <th>1</th>\n",
              "      <td>2</td>\n",
              "      <td>Jumanji</td>\n",
              "      <td>[adventure, children, fantasy]</td>\n",
              "      <td>1995</td>\n",
              "      <td>movie</td>\n",
              "      <td>Joe Johnston</td>\n",
              "      <td>Jonathan Hensleigh</td>\n",
              "    </tr>\n",
              "    <tr>\n",
              "      <th>2</th>\n",
              "      <td>3</td>\n",
              "      <td>Grumpier Old Men</td>\n",
              "      <td>[comedy, romance]</td>\n",
              "      <td>1995</td>\n",
              "      <td>movie</td>\n",
              "      <td>Howard Deutch</td>\n",
              "      <td>Mark Steven Johnson</td>\n",
              "    </tr>\n",
              "    <tr>\n",
              "      <th>3</th>\n",
              "      <td>4</td>\n",
              "      <td>Waiting to Exhale</td>\n",
              "      <td>[comedy, drama, romance]</td>\n",
              "      <td>1995</td>\n",
              "      <td>movie</td>\n",
              "      <td>Forest Whitaker</td>\n",
              "      <td>Terry McMillan</td>\n",
              "    </tr>\n",
              "    <tr>\n",
              "      <th>4</th>\n",
              "      <td>5</td>\n",
              "      <td>Father of the Bride Part II</td>\n",
              "      <td>[comedy]</td>\n",
              "      <td>1995</td>\n",
              "      <td>movie</td>\n",
              "      <td>Charles Shyer</td>\n",
              "      <td>Albert Hackett</td>\n",
              "    </tr>\n",
              "    <tr>\n",
              "      <th>...</th>\n",
              "      <td>...</td>\n",
              "      <td>...</td>\n",
              "      <td>...</td>\n",
              "      <td>...</td>\n",
              "      <td>...</td>\n",
              "      <td>...</td>\n",
              "      <td>...</td>\n",
              "    </tr>\n",
              "    <tr>\n",
              "      <th>40604</th>\n",
              "      <td>209153</td>\n",
              "      <td>Happy Flight</td>\n",
              "      <td>[comedy, drama]</td>\n",
              "      <td>2008</td>\n",
              "      <td>movie</td>\n",
              "      <td>Shinobu Yaguchi</td>\n",
              "      <td>Shinobu Yaguchi</td>\n",
              "    </tr>\n",
              "    <tr>\n",
              "      <th>40605</th>\n",
              "      <td>209159</td>\n",
              "      <td>Window of the Soul</td>\n",
              "      <td>[documentary]</td>\n",
              "      <td>2001</td>\n",
              "      <td>movie</td>\n",
              "      <td>João Jardim</td>\n",
              "      <td>Walter Carvalho</td>\n",
              "    </tr>\n",
              "    <tr>\n",
              "      <th>40606</th>\n",
              "      <td>209163</td>\n",
              "      <td>Bad Poems</td>\n",
              "      <td>[comedy, drama]</td>\n",
              "      <td>2018</td>\n",
              "      <td>movie</td>\n",
              "      <td>Gábor Reisz</td>\n",
              "      <td>Gábor Reisz</td>\n",
              "    </tr>\n",
              "    <tr>\n",
              "      <th>40607</th>\n",
              "      <td>209169</td>\n",
              "      <td>A Girl Thing</td>\n",
              "      <td>[(no genres listed)]</td>\n",
              "      <td>2001</td>\n",
              "      <td>tvMovie</td>\n",
              "      <td>Lee Rose</td>\n",
              "      <td>Lee Rose</td>\n",
              "    </tr>\n",
              "    <tr>\n",
              "      <th>40608</th>\n",
              "      <td>209171</td>\n",
              "      <td>Women of Devil's Island</td>\n",
              "      <td>[action, adventure, drama]</td>\n",
              "      <td>1962</td>\n",
              "      <td>movie</td>\n",
              "      <td>Domenico Paolella</td>\n",
              "      <td>Ernesto Gastaldi</td>\n",
              "    </tr>\n",
              "  </tbody>\n",
              "</table>\n",
              "<p>40609 rows × 7 columns</p>\n",
              "</div>"
            ],
            "text/plain": [
              "       movieId                        title  \\\n",
              "0            1                    Toy Story   \n",
              "1            2                      Jumanji   \n",
              "2            3             Grumpier Old Men   \n",
              "3            4            Waiting to Exhale   \n",
              "4            5  Father of the Bride Part II   \n",
              "...        ...                          ...   \n",
              "40604   209153                 Happy Flight   \n",
              "40605   209159           Window of the Soul   \n",
              "40606   209163                    Bad Poems   \n",
              "40607   209169                 A Girl Thing   \n",
              "40608   209171      Women of Devil's Island   \n",
              "\n",
              "                                                  genres  year titleType  \\\n",
              "0      [adventure, animation, children, comedy, fantasy]  1995     movie   \n",
              "1                         [adventure, children, fantasy]  1995     movie   \n",
              "2                                      [comedy, romance]  1995     movie   \n",
              "3                               [comedy, drama, romance]  1995     movie   \n",
              "4                                               [comedy]  1995     movie   \n",
              "...                                                  ...   ...       ...   \n",
              "40604                                    [comedy, drama]  2008     movie   \n",
              "40605                                      [documentary]  2001     movie   \n",
              "40606                                    [comedy, drama]  2018     movie   \n",
              "40607                               [(no genres listed)]  2001   tvMovie   \n",
              "40608                         [action, adventure, drama]  1962     movie   \n",
              "\n",
              "                director               writer  \n",
              "0          John Lasseter        John Lasseter  \n",
              "1           Joe Johnston   Jonathan Hensleigh  \n",
              "2          Howard Deutch  Mark Steven Johnson  \n",
              "3        Forest Whitaker       Terry McMillan  \n",
              "4          Charles Shyer       Albert Hackett  \n",
              "...                  ...                  ...  \n",
              "40604    Shinobu Yaguchi      Shinobu Yaguchi  \n",
              "40605        João Jardim      Walter Carvalho  \n",
              "40606        Gábor Reisz          Gábor Reisz  \n",
              "40607           Lee Rose             Lee Rose  \n",
              "40608  Domenico Paolella     Ernesto Gastaldi  \n",
              "\n",
              "[40609 rows x 7 columns]"
            ]
          },
          "execution_count": 6,
          "metadata": {},
          "output_type": "execute_result"
        }
      ],
      "source": [
        "df_movies"
      ]
    },
    {
      "cell_type": "code",
      "execution_count": 7,
      "metadata": {
        "colab": {
          "base_uri": "https://localhost:8080/",
          "height": 676
        },
        "id": "6RQhlBqQhTjW",
        "outputId": "944ba04e-2dee-4842-d284-65d13fef765a"
      },
      "outputs": [
        {
          "data": {
            "text/html": [
              "<div>\n",
              "<style scoped>\n",
              "    .dataframe tbody tr th:only-of-type {\n",
              "        vertical-align: middle;\n",
              "    }\n",
              "\n",
              "    .dataframe tbody tr th {\n",
              "        vertical-align: top;\n",
              "    }\n",
              "\n",
              "    .dataframe thead th {\n",
              "        text-align: right;\n",
              "    }\n",
              "</style>\n",
              "<table border=\"1\" class=\"dataframe\">\n",
              "  <thead>\n",
              "    <tr style=\"text-align: right;\">\n",
              "      <th></th>\n",
              "      <th>userId</th>\n",
              "      <th>movieId</th>\n",
              "      <th>rating</th>\n",
              "      <th>timestamp</th>\n",
              "    </tr>\n",
              "  </thead>\n",
              "  <tbody>\n",
              "    <tr>\n",
              "      <th>0</th>\n",
              "      <td>1</td>\n",
              "      <td>296</td>\n",
              "      <td>5.0</td>\n",
              "      <td>1147880044</td>\n",
              "    </tr>\n",
              "    <tr>\n",
              "      <th>1</th>\n",
              "      <td>1</td>\n",
              "      <td>306</td>\n",
              "      <td>3.5</td>\n",
              "      <td>1147868817</td>\n",
              "    </tr>\n",
              "    <tr>\n",
              "      <th>2</th>\n",
              "      <td>1</td>\n",
              "      <td>307</td>\n",
              "      <td>5.0</td>\n",
              "      <td>1147868828</td>\n",
              "    </tr>\n",
              "    <tr>\n",
              "      <th>3</th>\n",
              "      <td>1</td>\n",
              "      <td>665</td>\n",
              "      <td>5.0</td>\n",
              "      <td>1147878820</td>\n",
              "    </tr>\n",
              "    <tr>\n",
              "      <th>4</th>\n",
              "      <td>1</td>\n",
              "      <td>899</td>\n",
              "      <td>3.5</td>\n",
              "      <td>1147868510</td>\n",
              "    </tr>\n",
              "    <tr>\n",
              "      <th>...</th>\n",
              "      <td>...</td>\n",
              "      <td>...</td>\n",
              "      <td>...</td>\n",
              "      <td>...</td>\n",
              "    </tr>\n",
              "    <tr>\n",
              "      <th>25000090</th>\n",
              "      <td>162541</td>\n",
              "      <td>50872</td>\n",
              "      <td>4.5</td>\n",
              "      <td>1240953372</td>\n",
              "    </tr>\n",
              "    <tr>\n",
              "      <th>25000091</th>\n",
              "      <td>162541</td>\n",
              "      <td>55768</td>\n",
              "      <td>2.5</td>\n",
              "      <td>1240951998</td>\n",
              "    </tr>\n",
              "    <tr>\n",
              "      <th>25000092</th>\n",
              "      <td>162541</td>\n",
              "      <td>56176</td>\n",
              "      <td>2.0</td>\n",
              "      <td>1240950697</td>\n",
              "    </tr>\n",
              "    <tr>\n",
              "      <th>25000093</th>\n",
              "      <td>162541</td>\n",
              "      <td>58559</td>\n",
              "      <td>4.0</td>\n",
              "      <td>1240953434</td>\n",
              "    </tr>\n",
              "    <tr>\n",
              "      <th>25000094</th>\n",
              "      <td>162541</td>\n",
              "      <td>63876</td>\n",
              "      <td>5.0</td>\n",
              "      <td>1240952515</td>\n",
              "    </tr>\n",
              "  </tbody>\n",
              "</table>\n",
              "<p>25000095 rows × 4 columns</p>\n",
              "</div>"
            ],
            "text/plain": [
              "          userId  movieId  rating   timestamp\n",
              "0              1      296     5.0  1147880044\n",
              "1              1      306     3.5  1147868817\n",
              "2              1      307     5.0  1147868828\n",
              "3              1      665     5.0  1147878820\n",
              "4              1      899     3.5  1147868510\n",
              "...          ...      ...     ...         ...\n",
              "25000090  162541    50872     4.5  1240953372\n",
              "25000091  162541    55768     2.5  1240951998\n",
              "25000092  162541    56176     2.0  1240950697\n",
              "25000093  162541    58559     4.0  1240953434\n",
              "25000094  162541    63876     5.0  1240952515\n",
              "\n",
              "[25000095 rows x 4 columns]"
            ]
          },
          "execution_count": 7,
          "metadata": {},
          "output_type": "execute_result"
        }
      ],
      "source": [
        "df_ratings"
      ]
    },
    {
      "cell_type": "code",
      "execution_count": 76,
      "metadata": {
        "colab": {
          "base_uri": "https://localhost:8080/",
          "height": 346
        },
        "id": "hY3dgwGrP7ZL",
        "outputId": "fafa2d66-df41-4ffd-b495-649f0ca557f1"
      },
      "outputs": [
        {
          "data": {
            "text/html": [
              "<div>\n",
              "<style scoped>\n",
              "    .dataframe tbody tr th:only-of-type {\n",
              "        vertical-align: middle;\n",
              "    }\n",
              "\n",
              "    .dataframe tbody tr th {\n",
              "        vertical-align: top;\n",
              "    }\n",
              "\n",
              "    .dataframe thead th {\n",
              "        text-align: right;\n",
              "    }\n",
              "</style>\n",
              "<table border=\"1\" class=\"dataframe\">\n",
              "  <thead>\n",
              "    <tr style=\"text-align: right;\">\n",
              "      <th></th>\n",
              "      <th>count</th>\n",
              "    </tr>\n",
              "    <tr>\n",
              "      <th>rating</th>\n",
              "      <th></th>\n",
              "    </tr>\n",
              "  </thead>\n",
              "  <tbody>\n",
              "    <tr>\n",
              "      <th>0.5</th>\n",
              "      <td>276737</td>\n",
              "    </tr>\n",
              "    <tr>\n",
              "      <th>1.0</th>\n",
              "      <td>562251</td>\n",
              "    </tr>\n",
              "    <tr>\n",
              "      <th>1.5</th>\n",
              "      <td>291629</td>\n",
              "    </tr>\n",
              "    <tr>\n",
              "      <th>2.0</th>\n",
              "      <td>1189187</td>\n",
              "    </tr>\n",
              "    <tr>\n",
              "      <th>2.5</th>\n",
              "      <td>906855</td>\n",
              "    </tr>\n",
              "    <tr>\n",
              "      <th>3.0</th>\n",
              "      <td>3477375</td>\n",
              "    </tr>\n",
              "    <tr>\n",
              "      <th>3.5</th>\n",
              "      <td>2204616</td>\n",
              "    </tr>\n",
              "    <tr>\n",
              "      <th>4.0</th>\n",
              "      <td>4506835</td>\n",
              "    </tr>\n",
              "    <tr>\n",
              "      <th>4.5</th>\n",
              "      <td>1429841</td>\n",
              "    </tr>\n",
              "    <tr>\n",
              "      <th>5.0</th>\n",
              "      <td>2320523</td>\n",
              "    </tr>\n",
              "  </tbody>\n",
              "</table>\n",
              "</div>"
            ],
            "text/plain": [
              "          count\n",
              "rating         \n",
              "0.5      276737\n",
              "1.0      562251\n",
              "1.5      291629\n",
              "2.0     1189187\n",
              "2.5      906855\n",
              "3.0     3477375\n",
              "3.5     2204616\n",
              "4.0     4506835\n",
              "4.5     1429841\n",
              "5.0     2320523"
            ]
          },
          "execution_count": 76,
          "metadata": {},
          "output_type": "execute_result"
        }
      ],
      "source": [
        "df_ratings_cntRatings = pd.DataFrame(df_ratings.groupby('rating').size(), columns=['count'])\n",
        "df_ratings_cntRatings"
      ]
    },
    {
      "cell_type": "code",
      "execution_count": 77,
      "metadata": {},
      "outputs": [
        {
          "data": {
            "text/html": [
              "<div>\n",
              "<style scoped>\n",
              "    .dataframe tbody tr th:only-of-type {\n",
              "        vertical-align: middle;\n",
              "    }\n",
              "\n",
              "    .dataframe tbody tr th {\n",
              "        vertical-align: top;\n",
              "    }\n",
              "\n",
              "    .dataframe thead th {\n",
              "        text-align: right;\n",
              "    }\n",
              "</style>\n",
              "<table border=\"1\" class=\"dataframe\">\n",
              "  <thead>\n",
              "    <tr style=\"text-align: right;\">\n",
              "      <th></th>\n",
              "      <th>count</th>\n",
              "    </tr>\n",
              "    <tr>\n",
              "      <th>rating</th>\n",
              "      <th></th>\n",
              "    </tr>\n",
              "  </thead>\n",
              "  <tbody>\n",
              "    <tr>\n",
              "      <th>0.5</th>\n",
              "      <td>276737</td>\n",
              "    </tr>\n",
              "    <tr>\n",
              "      <th>1.0</th>\n",
              "      <td>562251</td>\n",
              "    </tr>\n",
              "    <tr>\n",
              "      <th>1.5</th>\n",
              "      <td>291629</td>\n",
              "    </tr>\n",
              "    <tr>\n",
              "      <th>2.0</th>\n",
              "      <td>1189187</td>\n",
              "    </tr>\n",
              "    <tr>\n",
              "      <th>2.5</th>\n",
              "      <td>906855</td>\n",
              "    </tr>\n",
              "    <tr>\n",
              "      <th>3.0</th>\n",
              "      <td>3477375</td>\n",
              "    </tr>\n",
              "    <tr>\n",
              "      <th>3.5</th>\n",
              "      <td>2204616</td>\n",
              "    </tr>\n",
              "    <tr>\n",
              "      <th>4.0</th>\n",
              "      <td>4506835</td>\n",
              "    </tr>\n",
              "    <tr>\n",
              "      <th>4.5</th>\n",
              "      <td>1429841</td>\n",
              "    </tr>\n",
              "    <tr>\n",
              "      <th>5.0</th>\n",
              "      <td>2320523</td>\n",
              "    </tr>\n",
              "  </tbody>\n",
              "</table>\n",
              "</div>"
            ],
            "text/plain": [
              "          count\n",
              "rating         \n",
              "0.5      276737\n",
              "1.0      562251\n",
              "1.5      291629\n",
              "2.0     1189187\n",
              "2.5      906855\n",
              "3.0     3477375\n",
              "3.5     2204616\n",
              "4.0     4506835\n",
              "4.5     1429841\n",
              "5.0     2320523"
            ]
          },
          "execution_count": 77,
          "metadata": {},
          "output_type": "execute_result"
        }
      ],
      "source": [
        "df_ratings_cntRatings.sort_index()\n",
        "df_ratings_cntRatings"
      ]
    },
    {
      "cell_type": "code",
      "execution_count": 78,
      "metadata": {},
      "outputs": [
        {
          "data": {
            "image/png": "[encoded data removed]",
            "text/plain": [
              "<Figure size 864x576 with 1 Axes>"
            ]
          },
          "metadata": {
            "needs_background": "light"
          },
          "output_type": "display_data"
        }
      ],
      "source": [
        "ax = df_ratings_cntRatings[['count']].reset_index().rename(columns={'index': 'rating'}).plot(\n",
        "    x='rating',\n",
        "    y='count',\n",
        "    kind='bar',\n",
        "    figsize=(12, 8),\n",
        "    title='Count for Each Rating Score',\n",
        "    logy=True,\n",
        "    fontsize=12,\n",
        ")\n",
        "ax.set_xlabel(\"movie rating score\")\n",
        "ax.set_ylabel(\"number of ratings\")\n",
        "\n",
        "for p in ax.patches:\n",
        "    ax.annotate(str(p.get_height()), (p.get_x() * 0.984, p.get_height() * 1.05))"
      ]
    },
    {
      "cell_type": "code",
      "execution_count": 79,
      "metadata": {
        "id": "oWC-w6ysQLYT"
      },
      "outputs": [
        {
          "name": "stdout",
          "output_type": "stream",
          "text": [
            "162541\n",
            "59047\n"
          ]
        }
      ],
      "source": [
        "num_users = len(df_ratings.userId.unique())\n",
        "num_items = len(df_ratings.movieId.unique())\n",
        "print(num_users)\n",
        "print(num_items)"
      ]
    },
    {
      "cell_type": "code",
      "execution_count": 80,
      "metadata": {
        "colab": {
          "base_uri": "https://localhost:8080/",
          "height": 238
        },
        "id": "bCSu7D3jVvIH",
        "outputId": "b33c2ee5-70af-4499-a196-ad633f01c0ae"
      },
      "outputs": [
        {
          "data": {
            "text/html": [
              "<div>\n",
              "<style scoped>\n",
              "    .dataframe tbody tr th:only-of-type {\n",
              "        vertical-align: middle;\n",
              "    }\n",
              "\n",
              "    .dataframe tbody tr th {\n",
              "        vertical-align: top;\n",
              "    }\n",
              "\n",
              "    .dataframe thead th {\n",
              "        text-align: right;\n",
              "    }\n",
              "</style>\n",
              "<table border=\"1\" class=\"dataframe\">\n",
              "  <thead>\n",
              "    <tr style=\"text-align: right;\">\n",
              "      <th></th>\n",
              "      <th>count</th>\n",
              "    </tr>\n",
              "    <tr>\n",
              "      <th>movieId</th>\n",
              "      <th></th>\n",
              "    </tr>\n",
              "  </thead>\n",
              "  <tbody>\n",
              "    <tr>\n",
              "      <th>1</th>\n",
              "      <td>57309</td>\n",
              "    </tr>\n",
              "    <tr>\n",
              "      <th>2</th>\n",
              "      <td>24228</td>\n",
              "    </tr>\n",
              "    <tr>\n",
              "      <th>3</th>\n",
              "      <td>11804</td>\n",
              "    </tr>\n",
              "    <tr>\n",
              "      <th>4</th>\n",
              "      <td>2523</td>\n",
              "    </tr>\n",
              "    <tr>\n",
              "      <th>5</th>\n",
              "      <td>11714</td>\n",
              "    </tr>\n",
              "    <tr>\n",
              "      <th>...</th>\n",
              "      <td>...</td>\n",
              "    </tr>\n",
              "    <tr>\n",
              "      <th>209153</th>\n",
              "      <td>1</td>\n",
              "    </tr>\n",
              "    <tr>\n",
              "      <th>209159</th>\n",
              "      <td>1</td>\n",
              "    </tr>\n",
              "    <tr>\n",
              "      <th>209163</th>\n",
              "      <td>1</td>\n",
              "    </tr>\n",
              "    <tr>\n",
              "      <th>209169</th>\n",
              "      <td>1</td>\n",
              "    </tr>\n",
              "    <tr>\n",
              "      <th>209171</th>\n",
              "      <td>1</td>\n",
              "    </tr>\n",
              "  </tbody>\n",
              "</table>\n",
              "<p>37972 rows × 1 columns</p>\n",
              "</div>"
            ],
            "text/plain": [
              "         count\n",
              "movieId       \n",
              "1        57309\n",
              "2        24228\n",
              "3        11804\n",
              "4         2523\n",
              "5        11714\n",
              "...        ...\n",
              "209153       1\n",
              "209159       1\n",
              "209163       1\n",
              "209169       1\n",
              "209171       1\n",
              "\n",
              "[37972 rows x 1 columns]"
            ]
          },
          "execution_count": 80,
          "metadata": {},
          "output_type": "execute_result"
        }
      ],
      "source": [
        "df_movies_cntMovies = pd.DataFrame(df_merged.groupby('movieId').size(), columns=['count'])\n",
        "df_movies_cntMovies"
      ]
    },
    {
      "cell_type": "code",
      "execution_count": 81,
      "metadata": {
        "colab": {
          "base_uri": "https://localhost:8080/",
          "height": 538
        },
        "id": "uPcu-gEzXCKA",
        "outputId": "ce152f9d-6838-466a-a00c-0040c103a685"
      },
      "outputs": [
        {
          "data": {
            "text/plain": [
              "Text(0, 0.5, 'number of ratings (log scale)')"
            ]
          },
          "execution_count": 81,
          "metadata": {},
          "output_type": "execute_result"
        },
        {
          "data": {
            "image/png": "[encoded data removed]",
            "text/plain": [
              "<Figure size 864x576 with 1 Axes>"
            ]
          },
          "metadata": {
            "needs_background": "light"
          },
          "output_type": "display_data"
        }
      ],
      "source": [
        "ax = df_movies_cntMovies \\\n",
        "    .sort_values('count', ascending=False) \\\n",
        "    .reset_index(drop=True) \\\n",
        "    .plot(\n",
        "        figsize=(12, 8),\n",
        "        title='Rating Frequency of All Movies (in Log Scale)',\n",
        "        fontsize=12,\n",
        "        logy=True\n",
        "    )\n",
        "ax.set_xlabel(\"movie Id\")\n",
        "ax.set_ylabel(\"number of ratings (log scale)\")"
      ]
    },
    {
      "cell_type": "code",
      "execution_count": 82,
      "metadata": {
        "colab": {
          "base_uri": "https://localhost:8080/"
        },
        "id": "lLWjWfPyEdhq",
        "outputId": "d2ecba4b-135a-4c5c-cd6b-c462a9745f19"
      },
      "outputs": [
        {
          "data": {
            "text/plain": [
              "1.00    81491.00\n",
              "0.95     1682.35\n",
              "0.90      456.90\n",
              "0.85      158.00\n",
              "0.80       63.00\n",
              "0.75       32.00\n",
              "0.70       18.00\n",
              "0.65       12.00\n",
              "Name: count, dtype: float64"
            ]
          },
          "execution_count": 82,
          "metadata": {},
          "output_type": "execute_result"
        }
      ],
      "source": [
        "df_movies_cntMovies['count'].quantile(np.arange(1, 0.6, -0.05))"
      ]
    },
    {
      "cell_type": "code",
      "execution_count": 83,
      "metadata": {
        "colab": {
          "base_uri": "https://localhost:8080/"
        },
        "id": "fxPyKCDQGDJ3",
        "outputId": "35dd5680-b959-499c-e45f-cd921bbc6f21"
      },
      "outputs": [
        {
          "name": "stdout",
          "output_type": "stream",
          "text": [
            "shape of original ratings data:  (17165849, 10)\n",
            "shape of ratings data after dropping unpopular movies:  (16954138, 10)\n"
          ]
        }
      ],
      "source": [
        "popularity_thres = 50\n",
        "popular_movies = list(set(df_movies_cntMovies.query('count >= @popularity_thres').index))\n",
        "df_ratings_drop_movies = df_merged[df_merged.movieId.isin(popular_movies)]\n",
        "print('shape of original ratings data: ', df_merged.shape)\n",
        "print('shape of ratings data after dropping unpopular movies: ', df_ratings_drop_movies.shape)"
      ]
    },
    {
      "cell_type": "code",
      "execution_count": 84,
      "metadata": {
        "colab": {
          "base_uri": "https://localhost:8080/",
          "height": 238
        },
        "id": "Cegg4EsvF83J",
        "outputId": "5a50dbfa-3739-4577-a89d-cf0d3c54d4dd"
      },
      "outputs": [
        {
          "data": {
            "text/html": [
              "<div>\n",
              "<style scoped>\n",
              "    .dataframe tbody tr th:only-of-type {\n",
              "        vertical-align: middle;\n",
              "    }\n",
              "\n",
              "    .dataframe tbody tr th {\n",
              "        vertical-align: top;\n",
              "    }\n",
              "\n",
              "    .dataframe thead th {\n",
              "        text-align: right;\n",
              "    }\n",
              "</style>\n",
              "<table border=\"1\" class=\"dataframe\">\n",
              "  <thead>\n",
              "    <tr style=\"text-align: right;\">\n",
              "      <th></th>\n",
              "      <th>count</th>\n",
              "    </tr>\n",
              "    <tr>\n",
              "      <th>userId</th>\n",
              "      <th></th>\n",
              "    </tr>\n",
              "  </thead>\n",
              "  <tbody>\n",
              "    <tr>\n",
              "      <th>1</th>\n",
              "      <td>25</td>\n",
              "    </tr>\n",
              "    <tr>\n",
              "      <th>2</th>\n",
              "      <td>116</td>\n",
              "    </tr>\n",
              "    <tr>\n",
              "      <th>3</th>\n",
              "      <td>464</td>\n",
              "    </tr>\n",
              "    <tr>\n",
              "      <th>4</th>\n",
              "      <td>177</td>\n",
              "    </tr>\n",
              "    <tr>\n",
              "      <th>5</th>\n",
              "      <td>72</td>\n",
              "    </tr>\n",
              "  </tbody>\n",
              "</table>\n",
              "</div>"
            ],
            "text/plain": [
              "        count\n",
              "userId       \n",
              "1          25\n",
              "2         116\n",
              "3         464\n",
              "4         177\n",
              "5          72"
            ]
          },
          "execution_count": 84,
          "metadata": {},
          "output_type": "execute_result"
        }
      ],
      "source": [
        "df_users_cnt = pd.DataFrame(df_ratings_drop_movies.groupby('userId').size(), columns=['count'])\n",
        "df_users_cnt.head()"
      ]
    },
    {
      "cell_type": "code",
      "execution_count": 85,
      "metadata": {
        "colab": {
          "base_uri": "https://localhost:8080/",
          "height": 538
        },
        "id": "4nyM5zAJGW8C",
        "outputId": "042761f2-d4a6-4696-e784-3138a73363c1"
      },
      "outputs": [
        {
          "data": {
            "text/plain": [
              "Text(0, 0.5, 'number of ratings')"
            ]
          },
          "execution_count": 85,
          "metadata": {},
          "output_type": "execute_result"
        },
        {
          "data": {
            "image/png": "[encoded data removed]",
            "text/plain": [
              "<Figure size 864x576 with 1 Axes>"
            ]
          },
          "metadata": {
            "needs_background": "light"
          },
          "output_type": "display_data"
        }
      ],
      "source": [
        "ax = df_users_cnt \\\n",
        "    .sort_values('count', ascending=False) \\\n",
        "    .reset_index(drop=True) \\\n",
        "    .plot(\n",
        "        figsize=(12, 8),\n",
        "        title='Rating Frequency of All Users',\n",
        "        fontsize=12\n",
        "    )\n",
        "ax.set_xlabel(\"user Id\")\n",
        "ax.set_ylabel(\"number of ratings\")"
      ]
    },
    {
      "cell_type": "code",
      "execution_count": 86,
      "metadata": {
        "colab": {
          "base_uri": "https://localhost:8080/"
        },
        "id": "WwvLaTEQF4se",
        "outputId": "4e5c0f7e-cd14-4cad-e131-e64c8022872f"
      },
      "outputs": [
        {
          "data": {
            "text/plain": [
              "1.00    6500.0\n",
              "0.95     382.0\n",
              "0.90     243.0\n",
              "0.85     177.0\n",
              "0.80     138.0\n",
              "0.75     111.0\n",
              "0.70      91.0\n",
              "0.65      77.0\n",
              "0.60      66.0\n",
              "0.55      56.0\n",
              "Name: count, dtype: float64"
            ]
          },
          "execution_count": 86,
          "metadata": {},
          "output_type": "execute_result"
        }
      ],
      "source": [
        "df_users_cnt['count'].quantile(np.arange(1, 0.5, -0.05))"
      ]
    },
    {
      "cell_type": "code",
      "execution_count": 87,
      "metadata": {
        "colab": {
          "base_uri": "https://localhost:8080/"
        },
        "id": "YwT4SshSFhw5",
        "outputId": "48136678-8464-4843-e12f-41fda3b1e050"
      },
      "outputs": [
        {
          "name": "stdout",
          "output_type": "stream",
          "text": [
            "shape of original ratings data:  (17165849, 10)\n",
            "shape of ratings data after dropping both unpopular movies and inactive users:  (14752122, 10)\n"
          ]
        }
      ],
      "source": [
        "ratings_thres = 50\n",
        "active_users = list(set(df_users_cnt.query('count >= @ratings_thres').index))\n",
        "df_ratings_drop_users = df_ratings_drop_movies[df_ratings_drop_movies.userId.isin(active_users)]\n",
        "print('shape of original ratings data: ', df_merged.shape)\n",
        "print('shape of ratings data after dropping both unpopular movies and inactive users: ', df_ratings_drop_users.shape)"
      ]
    },
    {
      "cell_type": "code",
      "execution_count": 88,
      "metadata": {},
      "outputs": [
        {
          "data": {
            "text/html": [
              "<div>\n",
              "<style scoped>\n",
              "    .dataframe tbody tr th:only-of-type {\n",
              "        vertical-align: middle;\n",
              "    }\n",
              "\n",
              "    .dataframe tbody tr th {\n",
              "        vertical-align: top;\n",
              "    }\n",
              "\n",
              "    .dataframe thead th {\n",
              "        text-align: right;\n",
              "    }\n",
              "</style>\n",
              "<table border=\"1\" class=\"dataframe\">\n",
              "  <thead>\n",
              "    <tr style=\"text-align: right;\">\n",
              "      <th></th>\n",
              "      <th>movieId</th>\n",
              "      <th>title</th>\n",
              "      <th>genres</th>\n",
              "      <th>year</th>\n",
              "      <th>titleType</th>\n",
              "      <th>director</th>\n",
              "      <th>writer</th>\n",
              "      <th>userId</th>\n",
              "      <th>rating</th>\n",
              "      <th>timestamp</th>\n",
              "    </tr>\n",
              "  </thead>\n",
              "  <tbody>\n",
              "    <tr>\n",
              "      <th>0</th>\n",
              "      <td>1</td>\n",
              "      <td>Toy Story</td>\n",
              "      <td>[adventure, animation, children, comedy, fantasy]</td>\n",
              "      <td>1995</td>\n",
              "      <td>movie</td>\n",
              "      <td>John Lasseter</td>\n",
              "      <td>John Lasseter</td>\n",
              "      <td>2</td>\n",
              "      <td>3.5</td>\n",
              "      <td>1141415820</td>\n",
              "    </tr>\n",
              "    <tr>\n",
              "      <th>1</th>\n",
              "      <td>1</td>\n",
              "      <td>Toy Story</td>\n",
              "      <td>[adventure, animation, children, comedy, fantasy]</td>\n",
              "      <td>1995</td>\n",
              "      <td>movie</td>\n",
              "      <td>John Lasseter</td>\n",
              "      <td>John Lasseter</td>\n",
              "      <td>3</td>\n",
              "      <td>4.0</td>\n",
              "      <td>1439472215</td>\n",
              "    </tr>\n",
              "    <tr>\n",
              "      <th>2</th>\n",
              "      <td>1</td>\n",
              "      <td>Toy Story</td>\n",
              "      <td>[adventure, animation, children, comedy, fantasy]</td>\n",
              "      <td>1995</td>\n",
              "      <td>movie</td>\n",
              "      <td>John Lasseter</td>\n",
              "      <td>John Lasseter</td>\n",
              "      <td>4</td>\n",
              "      <td>3.0</td>\n",
              "      <td>1573944252</td>\n",
              "    </tr>\n",
              "    <tr>\n",
              "      <th>3</th>\n",
              "      <td>1</td>\n",
              "      <td>Toy Story</td>\n",
              "      <td>[adventure, animation, children, comedy, fantasy]</td>\n",
              "      <td>1995</td>\n",
              "      <td>movie</td>\n",
              "      <td>John Lasseter</td>\n",
              "      <td>John Lasseter</td>\n",
              "      <td>5</td>\n",
              "      <td>4.0</td>\n",
              "      <td>858625949</td>\n",
              "    </tr>\n",
              "    <tr>\n",
              "      <th>4</th>\n",
              "      <td>1</td>\n",
              "      <td>Toy Story</td>\n",
              "      <td>[adventure, animation, children, comedy, fantasy]</td>\n",
              "      <td>1995</td>\n",
              "      <td>movie</td>\n",
              "      <td>John Lasseter</td>\n",
              "      <td>John Lasseter</td>\n",
              "      <td>8</td>\n",
              "      <td>4.0</td>\n",
              "      <td>890492517</td>\n",
              "    </tr>\n",
              "    <tr>\n",
              "      <th>...</th>\n",
              "      <td>...</td>\n",
              "      <td>...</td>\n",
              "      <td>...</td>\n",
              "      <td>...</td>\n",
              "      <td>...</td>\n",
              "      <td>...</td>\n",
              "      <td>...</td>\n",
              "      <td>...</td>\n",
              "      <td>...</td>\n",
              "      <td>...</td>\n",
              "    </tr>\n",
              "    <tr>\n",
              "      <th>17165526</th>\n",
              "      <td>207830</td>\n",
              "      <td>Terminator: Dark Fate</td>\n",
              "      <td>[action, sci-fi]</td>\n",
              "      <td>2019</td>\n",
              "      <td>movie</td>\n",
              "      <td>Tim Miller</td>\n",
              "      <td>David S. Goyer</td>\n",
              "      <td>144301</td>\n",
              "      <td>3.5</td>\n",
              "      <td>1572984655</td>\n",
              "    </tr>\n",
              "    <tr>\n",
              "      <th>17165527</th>\n",
              "      <td>207830</td>\n",
              "      <td>Terminator: Dark Fate</td>\n",
              "      <td>[action, sci-fi]</td>\n",
              "      <td>2019</td>\n",
              "      <td>movie</td>\n",
              "      <td>Tim Miller</td>\n",
              "      <td>David S. Goyer</td>\n",
              "      <td>148647</td>\n",
              "      <td>3.0</td>\n",
              "      <td>1572924515</td>\n",
              "    </tr>\n",
              "    <tr>\n",
              "      <th>17165528</th>\n",
              "      <td>207830</td>\n",
              "      <td>Terminator: Dark Fate</td>\n",
              "      <td>[action, sci-fi]</td>\n",
              "      <td>2019</td>\n",
              "      <td>movie</td>\n",
              "      <td>Tim Miller</td>\n",
              "      <td>David S. Goyer</td>\n",
              "      <td>154088</td>\n",
              "      <td>4.0</td>\n",
              "      <td>1573021133</td>\n",
              "    </tr>\n",
              "    <tr>\n",
              "      <th>17165529</th>\n",
              "      <td>207830</td>\n",
              "      <td>Terminator: Dark Fate</td>\n",
              "      <td>[action, sci-fi]</td>\n",
              "      <td>2019</td>\n",
              "      <td>movie</td>\n",
              "      <td>Tim Miller</td>\n",
              "      <td>David S. Goyer</td>\n",
              "      <td>154546</td>\n",
              "      <td>4.0</td>\n",
              "      <td>1572703664</td>\n",
              "    </tr>\n",
              "    <tr>\n",
              "      <th>17165530</th>\n",
              "      <td>207830</td>\n",
              "      <td>Terminator: Dark Fate</td>\n",
              "      <td>[action, sci-fi]</td>\n",
              "      <td>2019</td>\n",
              "      <td>movie</td>\n",
              "      <td>Tim Miller</td>\n",
              "      <td>David S. Goyer</td>\n",
              "      <td>158109</td>\n",
              "      <td>4.0</td>\n",
              "      <td>1573850246</td>\n",
              "    </tr>\n",
              "  </tbody>\n",
              "</table>\n",
              "<p>14752122 rows × 10 columns</p>\n",
              "</div>"
            ],
            "text/plain": [
              "          movieId                  title  \\\n",
              "0               1              Toy Story   \n",
              "1               1              Toy Story   \n",
              "2               1              Toy Story   \n",
              "3               1              Toy Story   \n",
              "4               1              Toy Story   \n",
              "...           ...                    ...   \n",
              "17165526   207830  Terminator: Dark Fate   \n",
              "17165527   207830  Terminator: Dark Fate   \n",
              "17165528   207830  Terminator: Dark Fate   \n",
              "17165529   207830  Terminator: Dark Fate   \n",
              "17165530   207830  Terminator: Dark Fate   \n",
              "\n",
              "                                                     genres  year titleType  \\\n",
              "0         [adventure, animation, children, comedy, fantasy]  1995     movie   \n",
              "1         [adventure, animation, children, comedy, fantasy]  1995     movie   \n",
              "2         [adventure, animation, children, comedy, fantasy]  1995     movie   \n",
              "3         [adventure, animation, children, comedy, fantasy]  1995     movie   \n",
              "4         [adventure, animation, children, comedy, fantasy]  1995     movie   \n",
              "...                                                     ...   ...       ...   \n",
              "17165526                                   [action, sci-fi]  2019     movie   \n",
              "17165527                                   [action, sci-fi]  2019     movie   \n",
              "17165528                                   [action, sci-fi]  2019     movie   \n",
              "17165529                                   [action, sci-fi]  2019     movie   \n",
              "17165530                                   [action, sci-fi]  2019     movie   \n",
              "\n",
              "               director          writer  userId  rating   timestamp  \n",
              "0         John Lasseter   John Lasseter       2     3.5  1141415820  \n",
              "1         John Lasseter   John Lasseter       3     4.0  1439472215  \n",
              "2         John Lasseter   John Lasseter       4     3.0  1573944252  \n",
              "3         John Lasseter   John Lasseter       5     4.0   858625949  \n",
              "4         John Lasseter   John Lasseter       8     4.0   890492517  \n",
              "...                 ...             ...     ...     ...         ...  \n",
              "17165526     Tim Miller  David S. Goyer  144301     3.5  1572984655  \n",
              "17165527     Tim Miller  David S. Goyer  148647     3.0  1572924515  \n",
              "17165528     Tim Miller  David S. Goyer  154088     4.0  1573021133  \n",
              "17165529     Tim Miller  David S. Goyer  154546     4.0  1572703664  \n",
              "17165530     Tim Miller  David S. Goyer  158109     4.0  1573850246  \n",
              "\n",
              "[14752122 rows x 10 columns]"
            ]
          },
          "execution_count": 88,
          "metadata": {},
          "output_type": "execute_result"
        }
      ],
      "source": [
        "df_ratings_drop_users"
      ]
    },
    {
      "cell_type": "code",
      "execution_count": null,
      "metadata": {
        "id": "91SfULyDhuEH"
      },
      "outputs": [],
      "source": [
        "movie_user_mat = df_ratings_drop_users.pivot(index='movieId', columns='userId', values='rating').fillna(0)\n",
        "# create mapper from movie title to index\n",
        "movie_to_idx = {\n",
        "    movie: i for i, movie in \n",
        "    enumerate(list(df_movies.set_index('movieId').loc[movie_user_mat.index].title))\n",
        "}\n",
        "# transform matrix to scipy sparse matrix\n",
        "movie_user_mat_sparse = csr_matrix(movie_user_mat.values)"
      ]
    },
    {
      "cell_type": "code",
      "execution_count": 98,
      "metadata": {
        "colab": {
          "base_uri": "https://localhost:8080/"
        },
        "id": "U09Qh4v1h_Jl",
        "outputId": "58f263b3-8baa-4c6d-b2c2-a1ab1acd226a"
      },
      "outputs": [
        {
          "name": "stdout",
          "output_type": "stream",
          "text": [
            "env: JOBLIB_TEMP_FOLDER=/tmp\n"
          ]
        },
        {
          "data": {
            "text/plain": [
              "NearestNeighbors(algorithm='brute', metric='cosine', n_jobs=-1, n_neighbors=20)"
            ]
          },
          "execution_count": 98,
          "metadata": {},
          "output_type": "execute_result"
        }
      ],
      "source": [
        "%env JOBLIB_TEMP_FOLDER=/tmp\n",
        "# define model\n",
        "model_knn = NearestNeighbors(metric='cosine', algorithm='brute', n_neighbors=20, n_jobs=-1)\n",
        "# fit\n",
        "model_knn.fit(movie_user_mat_sparse)"
      ]
    },
    {
      "cell_type": "code",
      "execution_count": 67,
      "metadata": {
        "id": "4yQJrwt8HFj9"
      },
      "outputs": [],
      "source": [
        "def fuzzy_matching(mapper, fav_movie, verbose=True):\n",
        "    \"\"\"\n",
        "    return the closest match via fuzzy ratio. If no match found, return None\n",
        "    \n",
        "    Parameters\n",
        "    ----------    \n",
        "    mapper: dict, map movie title name to index of the movie in data\n",
        "\n",
        "    fav_movie: str, name of user input movie\n",
        "    \n",
        "    verbose: bool, print log if True\n",
        "\n",
        "    Return\n",
        "    ------\n",
        "    index of the closest match\n",
        "    \"\"\"\n",
        "    match_tuple = []\n",
        "    # get match\n",
        "    for title, idx in mapper.items():\n",
        "        ratio = fuzz.ratio(title.lower(), fav_movie.lower())\n",
        "        if ratio >= 60:\n",
        "            match_tuple.append((title, idx, ratio))\n",
        "    # sort\n",
        "    match_tuple = sorted(match_tuple, key=lambda x: x[2])[::-1]\n",
        "    if not match_tuple:\n",
        "        print('Oops! No match is found')\n",
        "        return\n",
        "    if verbose:\n",
        "        print('Found possible matches in our database: {0}\\n'.format([x[0] for x in match_tuple]))\n",
        "    return match_tuple[0][1]"
      ]
    },
    {
      "cell_type": "code",
      "execution_count": 68,
      "metadata": {
        "id": "JM0R-ET7Hyao"
      },
      "outputs": [],
      "source": [
        "def make_recommendation(model_knn, data, mapper, fav_movie, n_recommendations):\n",
        "    \"\"\"\n",
        "    return top n similar movie recommendations based on user's input movie\n",
        "\n",
        "\n",
        "    Parameters\n",
        "    ----------\n",
        "    model_knn: sklearn model, knn model\n",
        "\n",
        "    data: movie-user matrix\n",
        "\n",
        "    mapper: dict, map movie title name to index of the movie in data\n",
        "\n",
        "    fav_movie: str, name of user input movie\n",
        "\n",
        "    n_recommendations: int, top n recommendations\n",
        "\n",
        "    Return\n",
        "    ------\n",
        "    list of top n similar movie recommendations\n",
        "    \"\"\"\n",
        "    # fit\n",
        "    model_knn.fit(data)\n",
        "    # get input movie index\n",
        "    print('You have input movie:', fav_movie)\n",
        "    idx = fuzzy_matching(mapper, fav_movie, verbose=True)\n",
        "    # inference\n",
        "    print('Recommendation system start to make inference')\n",
        "    print('......\\n')\n",
        "    distances, indices = model_knn.kneighbors(data[idx], n_neighbors=n_recommendations+1)\n",
        "    # get list of raw idx of recommendations\n",
        "    raw_recommends = \\\n",
        "        sorted(list(zip(indices.squeeze().tolist(), distances.squeeze().tolist())), key=lambda x: x[1])[:0:-1]\n",
        "    # get reverse mapper\n",
        "    reverse_mapper = {v: k for k, v in mapper.items()}\n",
        "    # print recommendations\n",
        "    print('Recommendations for {}:'.format(fav_movie))\n",
        "    for i, (idx, dist) in enumerate(raw_recommends):\n",
        "        print('{0}: {1}, with distance of {2}'.format(i+1, reverse_mapper[idx], dist))"
      ]
    },
    {
      "cell_type": "code",
      "execution_count": null,
      "metadata": {
        "colab": {
          "base_uri": "https://localhost:8080/"
        },
        "id": "DHp5psUKiPjb",
        "outputId": "1bf0280f-70e4-4c24-de3f-6bfde1c59d10"
      },
      "outputs": [],
      "source": [
        "my_favorite = input(\"Enter your favourite movie:\")\n",
        "\n",
        "make_recommendation(\n",
        "    model_knn=model_knn,\n",
        "    data=movie_user_mat_sparse,\n",
        "    fav_movie=my_favorite,\n",
        "    mapper=movie_to_idx,\n",
        "    n_recommendations=10)"
      ]
    },
    {
      "cell_type": "code",
      "execution_count": null,
      "metadata": {
        "colab": {
          "base_uri": "https://localhost:8080/"
        },
        "id": "fVCIxw0xJsew",
        "outputId": "9a24d25e-dea0-485d-ad2b-0afe89fa0ed1"
      },
      "outputs": [],
      "source": [
        "\n",
        "# calculates precision for 1:100 dataset with 90 tp and 30 fp\n",
        "# from sklearn.metrics import precision_score\n",
        "# define actual\n",
        "# act_pos = [1 for _ in range(100)]\n",
        "# act_neg = [0 for _ in range(10000)]\n",
        "# y_true = act_pos + act_neg\n",
        "# define predictions\n",
        "# pred_pos = [0 for _ in range(10)] + [1 for _ in range(90)]\n",
        "# pred_neg = [1 for _ in range(30)] + [0 for _ in range(9970)]\n",
        "# y_pred = pred_pos + pred_neg\n",
        "# calculate prediction\n",
        "# precision = precision_score(y_true, y_pred, average='binary')\n",
        "# print('Precision: %.3f' % precision)"
      ]
    },
    {
      "cell_type": "markdown",
      "metadata": {
        "id": "PYqrdoA6OCsJ"
      },
      "source": [
        "# **Genre Based**"
      ]
    },
    {
      "cell_type": "code",
      "execution_count": 90,
      "metadata": {
        "id": "ijU6E1YSOL7Y"
      },
      "outputs": [],
      "source": [
        "#df_movies['genres'] = df_movies['genres'].str.split('|')\n",
        "df_merged['genres'] = df_merged['genres'].fillna(\"\").astype('str')"
      ]
    },
    {
      "cell_type": "code",
      "execution_count": 93,
      "metadata": {
        "colab": {
          "base_uri": "https://localhost:8080/"
        },
        "id": "-3p-dm0APUUH",
        "outputId": "c262c3eb-a5a8-4921-acb8-970d7c5b960f"
      },
      "outputs": [
        {
          "data": {
            "text/plain": [
              "(40609, 189)"
            ]
          },
          "execution_count": 93,
          "metadata": {},
          "output_type": "execute_result"
        }
      ],
      "source": [
        "from sklearn.feature_extraction.text import TfidfVectorizer\n",
        "tf_genre = TfidfVectorizer(analyzer='word', ngram_range=(1,2),min_df=0, stop_words='english')\n",
        "tfidf_matrix_genre = tf_genre.fit_transform(df_movies['genres'])\n",
        "tfidf_matrix_genre.shape"
      ]
    },
    {
      "cell_type": "code",
      "execution_count": null,
      "metadata": {
        "id": "Y4wSvCJbO7XB"
      },
      "outputs": [],
      "source": [
        "from sklearn.metrics.pairwise import cosine_similarity\n",
        "cosine_sim = cosine_similarity(tfidf_matrix_genre,tfidf_matrix_genre)\n",
        "cosine_sim[:4,:4]"
      ]
    },
    {
      "cell_type": "code",
      "execution_count": 9,
      "metadata": {
        "id": "MGBQm0ymQ8sI"
      },
      "outputs": [],
      "source": [
        "titles = df_merged['title']\n",
        "indices = pd.Series(df_merged.index, index=df_merged['title'])\n",
        "\n",
        "def genre_recomm_genre(title):\n",
        "    idx = indices[title]\n",
        "    sim_scores = list(enumerate(cosine_sim[idx]))\n",
        "    sim_scores = sorted(sim_scores, key=lambda x: x[1], reverse=True)\n",
        "    sim_scores = sim_scores[1:21]\n",
        "    df_movies_indices = [i[0] for i in sim_scores]\n",
        "    return titles.iloc[df_movies_indices]"
      ]
    },
    {
      "cell_type": "code",
      "execution_count": null,
      "metadata": {
        "id": "7K-AtJOXR97H"
      },
      "outputs": [],
      "source": [
        "movie = input(\"Enter you favourite movie: \")\n",
        "genre_recomm_genre(movie).head(3)"
      ]
    },
    {
      "cell_type": "markdown",
      "metadata": {},
      "source": [
        "# **Director Based**"
      ]
    },
    {
      "cell_type": "code",
      "execution_count": 95,
      "metadata": {},
      "outputs": [],
      "source": [
        "df_movies['director'] = df_movies['director'].fillna(\"\").astype('str')"
      ]
    },
    {
      "cell_type": "code",
      "execution_count": 96,
      "metadata": {},
      "outputs": [
        {
          "data": {
            "text/plain": [
              "(40609, 37667)"
            ]
          },
          "execution_count": 96,
          "metadata": {},
          "output_type": "execute_result"
        }
      ],
      "source": [
        "from sklearn.feature_extraction.text import TfidfVectorizer\n",
        "tf_dir = TfidfVectorizer(analyzer='word', ngram_range=(1,2),min_df=0, stop_words='english')\n",
        "tfidf_matrix_dir = tf_dir.fit_transform(df_movies['director'])\n",
        "tfidf_matrix_dir.shape"
      ]
    },
    {
      "cell_type": "code",
      "execution_count": null,
      "metadata": {},
      "outputs": [],
      "source": [
        "from sklearn.metrics.pairwise import cosine_similarity\n",
        "cosine_sim = cosine_similarity(tfidf_matrix_dir,tfidf_matrix_dir)\n",
        "cosine_sim[:7,:7]"
      ]
    },
    {
      "cell_type": "code",
      "execution_count": 16,
      "metadata": {},
      "outputs": [],
      "source": [
        "titles = df_movies['title']\n",
        "indices = pd.Series(df_movies.index, index=df_movies['title'])\n",
        "\n",
        "def genre_recomm_dir(title):\n",
        "    idx = indices[title]\n",
        "    sim_scores = list(enumerate(cosine_sim[idx]))\n",
        "    sim_scores = sorted(sim_scores, key=lambda x: x[1], reverse=True)\n",
        "    sim_scores = sim_scores[1:21]\n",
        "    df_movies_indices = [i[0] for i in sim_scores]\n",
        "    return titles.iloc[df_movies_indices]"
      ]
    },
    {
      "cell_type": "code",
      "execution_count": 27,
      "metadata": {},
      "outputs": [
        {
          "data": {
            "text/plain": [
              "28861         Pro Dia Nascer Feliz\n",
              "40605           Window of the Soul\n",
              "20416             O Costa d'África\n",
              "894                    The Machine\n",
              "28356                  The Machine\n",
              "11062                         Rafa\n",
              "35273                    John From\n",
              "37073           Um Adeus Português\n",
              "9793                     Silvestre\n",
              "12445    Passeio com Johnny Guitar\n",
              "Name: title, dtype: object"
            ]
          },
          "execution_count": 27,
          "metadata": {},
          "output_type": "execute_result"
        }
      ],
      "source": [
        "movie = input(\"Enter you favourite movie: \")\n",
        "genre_recomm_dir(movie).head(10)"
      ]
    }
  ],
  "metadata": {
    "colab": {
      "collapsed_sections": [
        "lMIIHkdCNx9r"
      ],
      "name": "Untitled",
      "provenance": []
    },
    "kernelspec": {
      "display_name": "Python 3",
      "name": "python3"
    },
    "language_info": {
      "codemirror_mode": {
        "name": "ipython",
        "version": 3
      },
      "file_extension": ".py",
      "mimetype": "text/x-python",
      "name": "python",
      "nbconvert_exporter": "python",
      "pygments_lexer": "ipython3",
      "version": "3.8.6"
    }
  },
  "nbformat": 4,
  "nbformat_minor": 0
}
