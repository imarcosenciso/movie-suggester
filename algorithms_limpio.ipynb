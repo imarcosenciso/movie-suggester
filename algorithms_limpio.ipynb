{
  "cells": [
    {
      "cell_type": "markdown",
      "metadata": {},
      "source": [
        "# Algorithms\n",
        "\n",
        "Study and comparison of different techniques and clustering algorithms."
      ]
    },
    {
      "cell_type": "code",
      "execution_count": 66,
      "metadata": {},
      "outputs": [],
      "source": [
        "# Libraries\n",
        "import pandas as pd\n",
        "import numpy as np\n",
        "import json\n",
        "\n",
        "# Preprocessing\n",
        "from sklearn.preprocessing import LabelEncoder\n",
        "from sklearn.preprocessing import OneHotEncoder\n",
        "from sklearn.preprocessing import normalize\n",
        "\n",
        "\n",
        "# for KNN:\n",
        "from scipy.sparse import csr_matrix\n",
        "from sklearn.neighbors import NearestNeighbors\n",
        "\n",
        "\n",
        "\n",
        "# for K approximations:\n",
        "from yellowbrick.cluster import KElbowVisualizer\n",
        "from sklearn.metrics import davies_bouldin_score\n",
        "from sklearn.cluster import KMeans\n",
        "\n",
        "# visualization imports\n",
        "import seaborn as sns\n",
        "import matplotlib.pyplot as plt\n",
        "plt.style.use('ggplot')"
      ]
    },
    {
      "cell_type": "markdown",
      "metadata": {},
      "source": [
        "## Encoding\n",
        "Some data processing has to be done since there's noninal attributes that have to be encoded for the algorithms to work. One-hot encoding is tipically used for nominal attributes, but the computational power required to use it across tens of thousands of films is too big. Thus, we've opted for a label encoding, which would otherwise be more suitable for ordinal string attributes."
      ]
    },
    {
      "cell_type": "code",
      "execution_count": 67,
      "metadata": {},
      "outputs": [],
      "source": [
        "# We're mainly working with these smaller dataset.\n",
        "df_movies = pd.read_json(\"Data/datasets/final/movies_reduced_25.json\", orient=\"records\")\n",
        "df_ratings = pd.read_json(\"Data/datasets/final/ratings_reduced_25.json\", orient=\"records\")"
      ]
    },
    {
      "cell_type": "code",
      "execution_count": 68,
      "metadata": {},
      "outputs": [],
      "source": [
        "# dict holding the column name and its respective encoder.\n",
        "encoder_dict = {}"
      ]
    },
    {
      "cell_type": "markdown",
      "metadata": {},
      "source": [
        "### Title"
      ]
    },
    {
      "cell_type": "code",
      "execution_count": 69,
      "metadata": {},
      "outputs": [
        {
          "data": {
            "text/html": [
              "<div>\n",
              "<style scoped>\n",
              "    .dataframe tbody tr th:only-of-type {\n",
              "        vertical-align: middle;\n",
              "    }\n",
              "\n",
              "    .dataframe tbody tr th {\n",
              "        vertical-align: top;\n",
              "    }\n",
              "\n",
              "    .dataframe thead th {\n",
              "        text-align: right;\n",
              "    }\n",
              "</style>\n",
              "<table border=\"1\" class=\"dataframe\">\n",
              "  <thead>\n",
              "    <tr style=\"text-align: right;\">\n",
              "      <th></th>\n",
              "      <th>movieId</th>\n",
              "      <th>title</th>\n",
              "      <th>genres</th>\n",
              "      <th>year</th>\n",
              "      <th>titleType</th>\n",
              "      <th>director</th>\n",
              "      <th>writer</th>\n",
              "      <th>genre_0</th>\n",
              "      <th>genre_1</th>\n",
              "      <th>genre_2</th>\n",
              "      <th>mean</th>\n",
              "      <th>std</th>\n",
              "    </tr>\n",
              "  </thead>\n",
              "  <tbody>\n",
              "    <tr>\n",
              "      <th>0</th>\n",
              "      <td>166558</td>\n",
              "      <td>4193</td>\n",
              "      <td>[action, horror]</td>\n",
              "      <td>2016</td>\n",
              "      <td>movie</td>\n",
              "      <td>Anna Foerster</td>\n",
              "      <td>Cory Goodman</td>\n",
              "      <td>action</td>\n",
              "      <td>horror</td>\n",
              "      <td>None</td>\n",
              "      <td>3.412371</td>\n",
              "      <td>1.070461</td>\n",
              "    </tr>\n",
              "    <tr>\n",
              "      <th>1</th>\n",
              "      <td>119068</td>\n",
              "      <td>2423</td>\n",
              "      <td>[comedy, drama]</td>\n",
              "      <td>2014</td>\n",
              "      <td>movie</td>\n",
              "      <td>Jason Reitman</td>\n",
              "      <td>Chad Kultgen</td>\n",
              "      <td>comedy</td>\n",
              "      <td>drama</td>\n",
              "      <td>None</td>\n",
              "      <td>3.822581</td>\n",
              "      <td>0.822074</td>\n",
              "    </tr>\n",
              "  </tbody>\n",
              "</table>\n",
              "</div>"
            ],
            "text/plain": [
              "   movieId  title            genres  year titleType       director  \\\n",
              "0   166558   4193  [action, horror]  2016     movie  Anna Foerster   \n",
              "1   119068   2423   [comedy, drama]  2014     movie  Jason Reitman   \n",
              "\n",
              "         writer genre_0 genre_1 genre_2      mean       std  \n",
              "0  Cory Goodman  action  horror    None  3.412371  1.070461  \n",
              "1  Chad Kultgen  comedy   drama    None  3.822581  0.822074  "
            ]
          },
          "execution_count": 69,
          "metadata": {},
          "output_type": "execute_result"
        }
      ],
      "source": [
        "# Label encoding. 'le' variable is used for later decoding.\n",
        "le = LabelEncoder()\n",
        "df_movies['title'] = le.fit_transform(df_movies['title'])\n",
        "\n",
        "# Add encoder to dict\n",
        "encoder_dict['title'] = le\n",
        "\n",
        "df_movies.head(2)"
      ]
    },
    {
      "cell_type": "markdown",
      "metadata": {},
      "source": [
        "### Genres\n",
        "\n",
        "As we can see bellow, there are 20 different genres. (With this smaller number we can try to apply the one-hot encoding method.) Label encoding will be used as 1-hot adds too many dimensions and computational complexity."
      ]
    },
    {
      "cell_type": "code",
      "execution_count": 70,
      "metadata": {},
      "outputs": [
        {
          "data": {
            "text/plain": [
              "array(['action', 'horror', 'comedy', 'drama', 'romance', 'adventure',\n",
              "       'documentary', 'crime', 'musical', 'children', 'western', 'war',\n",
              "       'fantasy', 'animation', 'sci-fi', 'mystery', 'thriller',\n",
              "       '(no genres listed)', 'imax', 'film-noir'], dtype=object)"
            ]
          },
          "execution_count": 70,
          "metadata": {},
          "output_type": "execute_result"
        }
      ],
      "source": [
        "df_movies['genres'].explode().unique()"
      ]
    },
    {
      "cell_type": "markdown",
      "metadata": {},
      "source": [
        "#### One-hot encoding"
      ]
    },
    {
      "cell_type": "code",
      "execution_count": 303,
      "metadata": {},
      "outputs": [],
      "source": [
        "# PREVIOUS!!\n",
        "\n",
        "# # One-hot encoder.\n",
        "# enc = OneHotEncoder(handle_unknown='ignore')\n",
        "\n",
        "# # Fitting requires a 2D array. Reshape converts our 1D array into 2D.\n",
        "# arr = np.array(df_movies['genres'].explode().unique()).reshape(-1,1)\n",
        "\n",
        "# enc.fit(arr)\n",
        "\n",
        "# # Add encoder to dict\n",
        "# encoder_dict['genres'] = enc"
      ]
    },
    {
      "cell_type": "code",
      "execution_count": 304,
      "metadata": {},
      "outputs": [
        {
          "data": {
            "text/plain": [
              "array([[0., 1., 0., 0., 0., 0., 0., 0., 0., 0., 0., 0., 0., 0., 0., 0.,\n",
              "        0., 0., 0., 0.],\n",
              "       [0., 0., 1., 0., 0., 0., 0., 0., 0., 0., 0., 0., 0., 0., 0., 0.,\n",
              "        0., 0., 0., 0.]])"
            ]
          },
          "execution_count": 304,
          "metadata": {},
          "output_type": "execute_result"
        }
      ],
      "source": [
        "# PREVIOUS!!\n",
        "\n",
        "# # Example of transformation and inverse transformation.\n",
        "# tr = enc.transform([['action'], ['adventure']]).toarray()\n",
        "# tr"
      ]
    },
    {
      "cell_type": "code",
      "execution_count": 305,
      "metadata": {},
      "outputs": [
        {
          "data": {
            "text/plain": [
              "array([['action'],\n",
              "       ['adventure']], dtype=object)"
            ]
          },
          "execution_count": 305,
          "metadata": {},
          "output_type": "execute_result"
        }
      ],
      "source": [
        "# PREVIOUS!!\n",
        "\n",
        "# enc.inverse_transform(tr)"
      ]
    },
    {
      "cell_type": "code",
      "execution_count": 306,
      "metadata": {},
      "outputs": [],
      "source": [
        "# PREVIOUS!!\n",
        "\n",
        "# # Applying one-hot encoding to each row in genres.\n",
        "\n",
        "# # 1st, define function to apply:\n",
        "# def one_hot_encode(x, enc):\n",
        "#     \"\"\"\n",
        "#     Encodes a 1D array using one-hot encoding.\n",
        "\n",
        "#     Some \n",
        "#     Parameters\n",
        "#     ---------- \n",
        "#     x : 1D list of parameters to encode.\n",
        "#     enc : already defined one-hot encoder.\n",
        "        \n",
        "#     Returns\n",
        "#     -------\n",
        "#     1D array containing the encoding.\n",
        "#     \"\"\"\n",
        "#     arr = enc.transform(np.array(x).reshape(-1,1)).toarray()\n",
        "    \n",
        "#     # sum: [[0,1,0,0], [1,0,0,0]] -> [1,1,0,0].\n",
        "#     return sum(arr)\n",
        "\n",
        "# # Now that we're at it, a decoding function should be defined as well.\n",
        "# def one_hot_decode(x, enc):\n",
        "#     \"\"\"\n",
        "#     Decodes a 1D vector using one-hot encoding.\n",
        "\n",
        "#     Parameters\n",
        "#     ---------- \n",
        "#     x : 2D vectori with previously encoded parameters.\n",
        "#     enc : already defined one-hot encoder.\n",
        "\n",
        "#     Returns\n",
        "#     -------\n",
        "#     1D array containing the decoded parameters.\n",
        "#     \"\"\"\n",
        "#     # TODO: transformation to 2D array and posterior decoding.\n",
        "#     return np.array(enc.inverse_transform(x)).flatten()"
      ]
    },
    {
      "cell_type": "code",
      "execution_count": 307,
      "metadata": {},
      "outputs": [],
      "source": [
        "# PREVIOUS!!\n",
        "\n",
        "df_movies['genres'] = df_movies['genres'].apply(one_hot_encode, enc=enc)"
      ]
    },
    {
      "cell_type": "code",
      "execution_count": 308,
      "metadata": {},
      "outputs": [
        {
          "data": {
            "text/plain": [
              "array([0., 0., 0., 0., 0., 0., 0., 0., 1., 0., 1., 0., 0., 0., 0., 0., 0.,\n",
              "       0., 0., 0.])"
            ]
          },
          "execution_count": 308,
          "metadata": {},
          "output_type": "execute_result"
        }
      ],
      "source": [
        "# PREVIOUS!!\n",
        "\n",
        "df_movies['genres'].head(200)[2]"
      ]
    },
    {
      "cell_type": "markdown",
      "metadata": {},
      "source": [
        "#### Label encoding"
      ]
    },
    {
      "cell_type": "code",
      "execution_count": 71,
      "metadata": {},
      "outputs": [],
      "source": [
        "def label_encoder(x, encoder):\n",
        "    return encoder.transform([x])[0]\n",
        "\n",
        "# TODO: check this works.\n",
        "def label_decoder(x, encoder):\n",
        "    return encoder.inverse_transform(x)"
      ]
    },
    {
      "cell_type": "code",
      "execution_count": 72,
      "metadata": {},
      "outputs": [
        {
          "data": {
            "text/html": [
              "<div>\n",
              "<style scoped>\n",
              "    .dataframe tbody tr th:only-of-type {\n",
              "        vertical-align: middle;\n",
              "    }\n",
              "\n",
              "    .dataframe tbody tr th {\n",
              "        vertical-align: top;\n",
              "    }\n",
              "\n",
              "    .dataframe thead th {\n",
              "        text-align: right;\n",
              "    }\n",
              "</style>\n",
              "<table border=\"1\" class=\"dataframe\">\n",
              "  <thead>\n",
              "    <tr style=\"text-align: right;\">\n",
              "      <th></th>\n",
              "      <th>movieId</th>\n",
              "      <th>title</th>\n",
              "      <th>genres</th>\n",
              "      <th>year</th>\n",
              "      <th>titleType</th>\n",
              "      <th>director</th>\n",
              "      <th>writer</th>\n",
              "      <th>genre_0</th>\n",
              "      <th>genre_1</th>\n",
              "      <th>genre_2</th>\n",
              "      <th>mean</th>\n",
              "      <th>std</th>\n",
              "    </tr>\n",
              "  </thead>\n",
              "  <tbody>\n",
              "    <tr>\n",
              "      <th>0</th>\n",
              "      <td>166558</td>\n",
              "      <td>4193</td>\n",
              "      <td>[action, horror]</td>\n",
              "      <td>2016</td>\n",
              "      <td>movie</td>\n",
              "      <td>Anna Foerster</td>\n",
              "      <td>Cory Goodman</td>\n",
              "      <td>1</td>\n",
              "      <td>11</td>\n",
              "      <td>20</td>\n",
              "      <td>3.412371</td>\n",
              "      <td>1.070461</td>\n",
              "    </tr>\n",
              "    <tr>\n",
              "      <th>1</th>\n",
              "      <td>119068</td>\n",
              "      <td>2423</td>\n",
              "      <td>[comedy, drama]</td>\n",
              "      <td>2014</td>\n",
              "      <td>movie</td>\n",
              "      <td>Jason Reitman</td>\n",
              "      <td>Chad Kultgen</td>\n",
              "      <td>5</td>\n",
              "      <td>8</td>\n",
              "      <td>20</td>\n",
              "      <td>3.822581</td>\n",
              "      <td>0.822074</td>\n",
              "    </tr>\n",
              "  </tbody>\n",
              "</table>\n",
              "</div>"
            ],
            "text/plain": [
              "   movieId  title            genres  year titleType       director  \\\n",
              "0   166558   4193  [action, horror]  2016     movie  Anna Foerster   \n",
              "1   119068   2423   [comedy, drama]  2014     movie  Jason Reitman   \n",
              "\n",
              "         writer  genre_0  genre_1  genre_2      mean       std  \n",
              "0  Cory Goodman        1       11       20  3.412371  1.070461  \n",
              "1  Chad Kultgen        5        8       20  3.822581  0.822074  "
            ]
          },
          "execution_count": 72,
          "metadata": {},
          "output_type": "execute_result"
        }
      ],
      "source": [
        "# Label encoding. 'le' variable is used for later decoding.\n",
        "le = LabelEncoder()\n",
        "le.fit(\n",
        "    np.append(df_movies['genres'].explode().unique(), None)\n",
        "    )\n",
        "df_movies['genre_0'] = df_movies['genre_0'].apply(label_encoder, encoder=le)\n",
        "df_movies['genre_1'] = df_movies['genre_1'].apply(label_encoder, encoder=le)\n",
        "df_movies['genre_2'] = df_movies['genre_2'].apply(label_encoder, encoder=le)\n",
        "\n",
        "\n",
        "# Add encoder to dict\n",
        "encoder_dict['genres'] = le\n",
        "\n",
        "df_movies.head(2)"
      ]
    },
    {
      "cell_type": "markdown",
      "metadata": {},
      "source": [
        "### Movie type\n",
        "\n",
        "Only 4 movie types exist, so one-hot encoding will be used."
      ]
    },
    {
      "cell_type": "code",
      "execution_count": 73,
      "metadata": {},
      "outputs": [
        {
          "data": {
            "text/plain": [
              "array(['movie', 'short', 'tvMovie', 'tvShort'], dtype=object)"
            ]
          },
          "execution_count": 73,
          "metadata": {},
          "output_type": "execute_result"
        }
      ],
      "source": [
        "df_movies['titleType'].explode().unique()"
      ]
    },
    {
      "cell_type": "markdown",
      "metadata": {},
      "source": [
        "#### One-hot encoding\n",
        "\n",
        "In similar fasion to 'genres', one-hot encoding is not used in the end."
      ]
    },
    {
      "cell_type": "code",
      "execution_count": 310,
      "metadata": {},
      "outputs": [],
      "source": [
        "# # One-hot encoder.\n",
        "# enc = OneHotEncoder(handle_unknown='ignore')\n",
        "\n",
        "# # Fitting requires a 2D array. Reshape converts our 1D array into 2D.\n",
        "# arr = np.array(df_movies['titleType'].explode().unique()).reshape(-1,1)\n",
        "\n",
        "# enc.fit(arr)\n",
        "\n",
        "# # Add encoder to dict\n",
        "# encoder_dict['titleType'] = enc"
      ]
    },
    {
      "cell_type": "code",
      "execution_count": 311,
      "metadata": {},
      "outputs": [],
      "source": [
        "# df_movies['titleType'] = df_movies['titleType'].apply(one_hot_encode, enc=enc)"
      ]
    },
    {
      "cell_type": "markdown",
      "metadata": {},
      "source": [
        "#### Label encoding"
      ]
    },
    {
      "cell_type": "code",
      "execution_count": 74,
      "metadata": {},
      "outputs": [],
      "source": [
        "# Label encoding. 'le' variable is used for later decoding.\n",
        "le = LabelEncoder()\n",
        "df_movies['titleType'] = le.fit_transform(df_movies['titleType'])\n",
        "\n",
        "# Add encoder to dict\n",
        "encoder_dict['titleType'] = le\n",
        "\n",
        "df_movies.head(2)\n",
        "\n",
        "\n",
        "df_movies['titleType'] = le.fit_transform(df_movies['titleType'])\n"
      ]
    },
    {
      "cell_type": "markdown",
      "metadata": {},
      "source": [
        "### Directors\n",
        "\n",
        "There are ~7k directors, so Label encoding seems to be more appropiate."
      ]
    },
    {
      "cell_type": "code",
      "execution_count": 75,
      "metadata": {},
      "outputs": [
        {
          "data": {
            "text/plain": [
              "3478"
            ]
          },
          "execution_count": 75,
          "metadata": {},
          "output_type": "execute_result"
        }
      ],
      "source": [
        "len(df_movies['director'].explode().unique())"
      ]
    },
    {
      "cell_type": "code",
      "execution_count": 76,
      "metadata": {},
      "outputs": [
        {
          "data": {
            "text/html": [
              "<div>\n",
              "<style scoped>\n",
              "    .dataframe tbody tr th:only-of-type {\n",
              "        vertical-align: middle;\n",
              "    }\n",
              "\n",
              "    .dataframe tbody tr th {\n",
              "        vertical-align: top;\n",
              "    }\n",
              "\n",
              "    .dataframe thead th {\n",
              "        text-align: right;\n",
              "    }\n",
              "</style>\n",
              "<table border=\"1\" class=\"dataframe\">\n",
              "  <thead>\n",
              "    <tr style=\"text-align: right;\">\n",
              "      <th></th>\n",
              "      <th>movieId</th>\n",
              "      <th>title</th>\n",
              "      <th>genres</th>\n",
              "      <th>year</th>\n",
              "      <th>titleType</th>\n",
              "      <th>director</th>\n",
              "      <th>writer</th>\n",
              "      <th>genre_0</th>\n",
              "      <th>genre_1</th>\n",
              "      <th>genre_2</th>\n",
              "      <th>mean</th>\n",
              "      <th>std</th>\n",
              "    </tr>\n",
              "  </thead>\n",
              "  <tbody>\n",
              "    <tr>\n",
              "      <th>0</th>\n",
              "      <td>166558</td>\n",
              "      <td>4193</td>\n",
              "      <td>[action, horror]</td>\n",
              "      <td>2016</td>\n",
              "      <td>0</td>\n",
              "      <td>200</td>\n",
              "      <td>Cory Goodman</td>\n",
              "      <td>1</td>\n",
              "      <td>11</td>\n",
              "      <td>20</td>\n",
              "      <td>3.412371</td>\n",
              "      <td>1.070461</td>\n",
              "    </tr>\n",
              "    <tr>\n",
              "      <th>1</th>\n",
              "      <td>119068</td>\n",
              "      <td>2423</td>\n",
              "      <td>[comedy, drama]</td>\n",
              "      <td>2014</td>\n",
              "      <td>0</td>\n",
              "      <td>1468</td>\n",
              "      <td>Chad Kultgen</td>\n",
              "      <td>5</td>\n",
              "      <td>8</td>\n",
              "      <td>20</td>\n",
              "      <td>3.822581</td>\n",
              "      <td>0.822074</td>\n",
              "    </tr>\n",
              "  </tbody>\n",
              "</table>\n",
              "</div>"
            ],
            "text/plain": [
              "   movieId  title            genres  year  titleType  director        writer  \\\n",
              "0   166558   4193  [action, horror]  2016          0       200  Cory Goodman   \n",
              "1   119068   2423   [comedy, drama]  2014          0      1468  Chad Kultgen   \n",
              "\n",
              "   genre_0  genre_1  genre_2      mean       std  \n",
              "0        1       11       20  3.412371  1.070461  \n",
              "1        5        8       20  3.822581  0.822074  "
            ]
          },
          "execution_count": 76,
          "metadata": {},
          "output_type": "execute_result"
        }
      ],
      "source": [
        "le = LabelEncoder()\n",
        "df_movies['director'] = le.fit_transform(df_movies['director'])\n",
        "\n",
        "# Add encoder to dict\n",
        "encoder_dict['director'] = le\n",
        "\n",
        "df_movies.head(2)"
      ]
    },
    {
      "cell_type": "markdown",
      "metadata": {},
      "source": [
        "### Writers\n",
        "\n",
        "There are ~8k directors, so Label encoding will be used."
      ]
    },
    {
      "cell_type": "code",
      "execution_count": 77,
      "metadata": {},
      "outputs": [
        {
          "data": {
            "text/plain": [
              "3922"
            ]
          },
          "execution_count": 77,
          "metadata": {},
          "output_type": "execute_result"
        }
      ],
      "source": [
        "len(df_movies['writer'].explode().unique())"
      ]
    },
    {
      "cell_type": "code",
      "execution_count": 78,
      "metadata": {},
      "outputs": [
        {
          "data": {
            "text/html": [
              "<div>\n",
              "<style scoped>\n",
              "    .dataframe tbody tr th:only-of-type {\n",
              "        vertical-align: middle;\n",
              "    }\n",
              "\n",
              "    .dataframe tbody tr th {\n",
              "        vertical-align: top;\n",
              "    }\n",
              "\n",
              "    .dataframe thead th {\n",
              "        text-align: right;\n",
              "    }\n",
              "</style>\n",
              "<table border=\"1\" class=\"dataframe\">\n",
              "  <thead>\n",
              "    <tr style=\"text-align: right;\">\n",
              "      <th></th>\n",
              "      <th>movieId</th>\n",
              "      <th>title</th>\n",
              "      <th>genres</th>\n",
              "      <th>year</th>\n",
              "      <th>titleType</th>\n",
              "      <th>director</th>\n",
              "      <th>writer</th>\n",
              "      <th>genre_0</th>\n",
              "      <th>genre_1</th>\n",
              "      <th>genre_2</th>\n",
              "      <th>mean</th>\n",
              "      <th>std</th>\n",
              "    </tr>\n",
              "  </thead>\n",
              "  <tbody>\n",
              "    <tr>\n",
              "      <th>0</th>\n",
              "      <td>166558</td>\n",
              "      <td>4193</td>\n",
              "      <td>[action, horror]</td>\n",
              "      <td>2016</td>\n",
              "      <td>0</td>\n",
              "      <td>200</td>\n",
              "      <td>669</td>\n",
              "      <td>1</td>\n",
              "      <td>11</td>\n",
              "      <td>20</td>\n",
              "      <td>3.412371</td>\n",
              "      <td>1.070461</td>\n",
              "    </tr>\n",
              "    <tr>\n",
              "      <th>1</th>\n",
              "      <td>119068</td>\n",
              "      <td>2423</td>\n",
              "      <td>[comedy, drama]</td>\n",
              "      <td>2014</td>\n",
              "      <td>0</td>\n",
              "      <td>1468</td>\n",
              "      <td>531</td>\n",
              "      <td>5</td>\n",
              "      <td>8</td>\n",
              "      <td>20</td>\n",
              "      <td>3.822581</td>\n",
              "      <td>0.822074</td>\n",
              "    </tr>\n",
              "  </tbody>\n",
              "</table>\n",
              "</div>"
            ],
            "text/plain": [
              "   movieId  title            genres  year  titleType  director  writer  \\\n",
              "0   166558   4193  [action, horror]  2016          0       200     669   \n",
              "1   119068   2423   [comedy, drama]  2014          0      1468     531   \n",
              "\n",
              "   genre_0  genre_1  genre_2      mean       std  \n",
              "0        1       11       20  3.412371  1.070461  \n",
              "1        5        8       20  3.822581  0.822074  "
            ]
          },
          "execution_count": 78,
          "metadata": {},
          "output_type": "execute_result"
        }
      ],
      "source": [
        "le = LabelEncoder()\n",
        "df_movies['writer'] = le.fit_transform(df_movies['writer'])\n",
        "\n",
        "# Add encoder to dict\n",
        "encoder_dict['writer'] = le\n",
        "\n",
        "df_movies.head(2)"
      ]
    },
    {
      "cell_type": "code",
      "execution_count": 79,
      "metadata": {},
      "outputs": [
        {
          "data": {
            "text/plain": [
              "{'title': LabelEncoder(),\n",
              " 'genres': LabelEncoder(),\n",
              " 'titleType': LabelEncoder(),\n",
              " 'director': LabelEncoder(),\n",
              " 'writer': LabelEncoder()}"
            ]
          },
          "execution_count": 79,
          "metadata": {},
          "output_type": "execute_result"
        }
      ],
      "source": [
        "# Checking that all encoders have been added to the dict\n",
        "encoder_dict"
      ]
    },
    {
      "cell_type": "code",
      "execution_count": 80,
      "metadata": {},
      "outputs": [],
      "source": [
        "# Drop movieId and genres column\n",
        "df_movies.drop(['movieId', 'genres'], axis=1, inplace=True)"
      ]
    },
    {
      "cell_type": "markdown",
      "metadata": {},
      "source": [
        "### Normalization"
      ]
    },
    {
      "cell_type": "code",
      "execution_count": 81,
      "metadata": {},
      "outputs": [
        {
          "data": {
            "text/plain": [
              "title        0\n",
              "year         0\n",
              "titleType    0\n",
              "director     0\n",
              "writer       0\n",
              "genre_0      0\n",
              "genre_1      0\n",
              "genre_2      0\n",
              "mean         0\n",
              "std          0\n",
              "dtype: int64"
            ]
          },
          "execution_count": 81,
          "metadata": {},
          "output_type": "execute_result"
        }
      ],
      "source": [
        "df_movies.isnull().sum()"
      ]
    },
    {
      "cell_type": "code",
      "execution_count": 82,
      "metadata": {},
      "outputs": [],
      "source": [
        "# Data normalization using L2 norm.\n",
        "x = normalize(df_movies, norm='l2')\n"
      ]
    },
    {
      "cell_type": "code",
      "execution_count": 84,
      "metadata": {},
      "outputs": [
        {
          "data": {
            "text/plain": [
              "array([8.91248529e-01, 4.28513483e-01, 0.00000000e+00, 4.25112582e-02,\n",
              "       1.42200159e-01, 2.12556291e-04, 2.33811920e-03, 4.25112582e-03,\n",
              "       7.25320953e-04, 2.27533247e-04])"
            ]
          },
          "execution_count": 84,
          "metadata": {},
          "output_type": "execute_result"
        }
      ],
      "source": [
        "x[0]"
      ]
    },
    {
      "cell_type": "markdown",
      "metadata": {},
      "source": [
        "Once all the data has been properly encoded, different algorithms will be tried.\n",
        "\n",
        "## KNN"
      ]
    },
    {
      "cell_type": "markdown",
      "metadata": {},
      "source": [
        "### Rudimentary KNN"
      ]
    },
    {
      "cell_type": "code",
      "execution_count": 86,
      "metadata": {},
      "outputs": [],
      "source": [
        "knn_movies_basic = NearestNeighbors(\n",
        "    algorithm = 'ball_tree',        # generally faster.\n",
        "    metric='minkowski',             # default: minkowski.\n",
        "    n_neighbors=15,                 # Random number for this basic model.\n",
        "    n_jobs=-1                       # Uses all processors.\n",
        ")"
      ]
    },
    {
      "cell_type": "code",
      "execution_count": 87,
      "metadata": {},
      "outputs": [],
      "source": [
        "km_movies_basic = KMeans(n_clusters=15, random_state=0)"
      ]
    },
    {
      "cell_type": "code",
      "execution_count": 88,
      "metadata": {},
      "outputs": [
        {
          "data": {
            "text/plain": [
              "KMeans(n_clusters=15, random_state=0)"
            ]
          },
          "execution_count": 88,
          "metadata": {},
          "output_type": "execute_result"
        }
      ],
      "source": [
        "km_movies_basic.fit(x)"
      ]
    },
    {
      "cell_type": "markdown",
      "metadata": {},
      "source": [
        "### KNN with K approximation\n",
        "\n",
        "Different methods that the literature suggest will be used."
      ]
    },
    {
      "cell_type": "markdown",
      "metadata": {},
      "source": [
        "\n",
        "#### Elbow Method \n",
        "\n",
        "A more rudimentary method, [explanation]..."
      ]
    },
    {
      "cell_type": "code",
      "execution_count": 98,
      "metadata": {},
      "outputs": [
        {
          "data": {
            "image/png": "[encoded data removed]",
            "text/plain": [
              "<Figure size 576x396 with 2 Axes>"
            ]
          },
          "metadata": {},
          "output_type": "display_data"
        },
        {
          "data": {
            "text/plain": [
              "<AxesSubplot:title={'center':'Distortion Score Elbow for KMeans Clustering'}, xlabel='k', ylabel='distortion score'>"
            ]
          },
          "execution_count": 98,
          "metadata": {},
          "output_type": "execute_result"
        }
      ],
      "source": [
        "model = KMeans(\n",
        "    n_init = 20,\n",
        "    algorithm = 'elkan'\n",
        ")\n",
        "visualizer = KElbowVisualizer(\n",
        "    model,\n",
        "    k=(2,30),                       # k is range of number of clusters.\n",
        "    timings= True\n",
        "    )\n",
        "\n",
        "visualizer.fit(x)                   # Fit data to visualizer\n",
        "visualizer.show()                   # Finalize and render the figure"
      ]
    },
    {
      "cell_type": "markdown",
      "metadata": {},
      "source": [
        "#### Silhouette score method\n",
        "\n",
        "Calculates the mean Silhouette Coefficient of all samples."
      ]
    },
    {
      "cell_type": "code",
      "execution_count": 103,
      "metadata": {},
      "outputs": [
        {
          "data": {
            "image/png": "[encoded data removed]",
            "text/plain": [
              "<Figure size 576x396 with 2 Axes>"
            ]
          },
          "metadata": {},
          "output_type": "display_data"
        },
        {
          "data": {
            "text/plain": [
              "<AxesSubplot:title={'center':'Silhouette Score Elbow for KMeans Clustering'}, xlabel='k', ylabel='silhouette score'>"
            ]
          },
          "execution_count": 103,
          "metadata": {},
          "output_type": "execute_result"
        }
      ],
      "source": [
        "model = KMeans()\n",
        "\n",
        "visualizer = KElbowVisualizer(\n",
        "    model,\n",
        "    k=(3,30),                   # k is range of number of clusters.\n",
        "    metric = 'silhouette',      # 2nd method to approximate K.\n",
        "    timings=True\n",
        "    )\n",
        "\n",
        "visualizer.fit(x)               # Fit the data to the visualizer\n",
        "visualizer.show()               # Finalize and render the figure"
      ]
    },
    {
      "cell_type": "markdown",
      "metadata": {},
      "source": [
        "#### Calinski Harabasz method\n",
        "\n",
        "Computes the ratio of dispersion between and within clusters"
      ]
    },
    {
      "cell_type": "code",
      "execution_count": 104,
      "metadata": {},
      "outputs": [
        {
          "data": {
            "image/png": "[encoded data removed]",
            "text/plain": [
              "<Figure size 576x396 with 2 Axes>"
            ]
          },
          "metadata": {},
          "output_type": "display_data"
        },
        {
          "data": {
            "text/plain": [
              "<AxesSubplot:title={'center':'Calinski Harabasz Score Elbow for KMeans Clustering'}, xlabel='k', ylabel='calinski harabasz score'>"
            ]
          },
          "execution_count": 104,
          "metadata": {},
          "output_type": "execute_result"
        }
      ],
      "source": [
        "model = KMeans()\n",
        "\n",
        "visualizer = KElbowVisualizer(\n",
        "    model,\n",
        "    k=(3,30),                           # k is range of number of clusters.\n",
        "    metric = 'calinski_harabasz',       # 3rd method to approximate K.\n",
        "    timings=True\n",
        "    )\n",
        "\n",
        "visualizer.fit(x)               # Fit the data to the visualizer\n",
        "visualizer.show()               # Finalize and render the figure\n"
      ]
    },
    {
      "cell_type": "markdown",
      "metadata": {},
      "source": [
        "#### DB Index\n",
        "\n",
        "[explanation]"
      ]
    },
    {
      "cell_type": "code",
      "execution_count": null,
      "metadata": {},
      "outputs": [],
      "source": [
        "def get_kmeans_score(data, center):\n",
        "    '''\n",
        "    returns the kmeans score regarding Davies Bouldin for points to centers\n",
        "    INPUT:\n",
        "        data - the dataset you want to fit kmeans to\n",
        "        center - the number of centers you want (the k value)\n",
        "    OUTPUT:\n",
        "        score - the Davies Bouldin score for the kmeans model fit to the data\n",
        "    '''\n",
        "    #instantiate kmeans\n",
        "    kmeans = KMeans(n_clusters=center)\n",
        "    # Then fit the model to your data using the fit method\n",
        "    model = kmeans.fit_predict(df_ratings)\n",
        "    \n",
        "    # Calculate Davies Bouldin score\n",
        "    score = davies_bouldin_score(df_ratings, model)\n",
        "\n",
        "    return score\n",
        "    \n",
        "scores = []\n",
        "centers = list(range(2,30))\n",
        "for center in centers:\n",
        "    scores.append(get_kmeans_score(df_ratings, center))\n",
        "    \n",
        "plt.plot(centers, scores, linestyle='--', marker='o', color='b');\n",
        "plt.xlabel('K');\n",
        "plt.ylabel('Davies Bouldin score');\n",
        "plt.title('Davies Bouldin score vs. K');"
      ]
    }
  ],
  "metadata": {
    "colab": {
      "collapsed_sections": [
        "lMIIHkdCNx9r"
      ],
      "name": "Untitled",
      "provenance": []
    },
    "kernelspec": {
      "display_name": "Python 3",
      "name": "python3"
    },
    "language_info": {
      "codemirror_mode": {
        "name": "ipython",
        "version": 3
      },
      "file_extension": ".py",
      "mimetype": "text/x-python",
      "name": "python",
      "nbconvert_exporter": "python",
      "pygments_lexer": "ipython3",
      "version": "3.8.5"
    }
  },
  "nbformat": 4,
  "nbformat_minor": 0
}
